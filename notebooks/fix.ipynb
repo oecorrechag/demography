{
 "cells": [
  {
   "cell_type": "code",
   "execution_count": null,
   "metadata": {},
   "outputs": [],
   "source": [
    "%load_ext autoreload\n",
    "%autoreload 2"
   ]
  },
  {
   "cell_type": "code",
   "execution_count": null,
   "metadata": {},
   "outputs": [],
   "source": [
    "import pandas as pd\n",
    "import geopandas as gpd \n",
    "import numpy as np\n",
    "\n",
    "import matplotlib.pyplot as plt\n",
    "import plotly.express as px\n",
    "\n",
    "pd.set_option('display.max_columns', None)\n",
    "pd.set_option('display.max_rows', None)\n",
    "import warnings\n",
    "warnings.filterwarnings(\"ignore\")"
   ]
  },
  {
   "cell_type": "code",
   "execution_count": null,
   "metadata": {},
   "outputs": [],
   "source": [
    "import sys\n",
    "sys.path.append(\"../\") \n",
    "\n",
    "from utils.paths import make_dir_line\n",
    "\n",
    "modality = 'u'\n",
    "project = 'Ciencia de los datos'\n",
    "data = make_dir_line(modality, project)\n",
    "\n",
    "raw = data('raw')\n",
    "processed = data('processed')\n",
    "models = data('models')"
   ]
  },
  {
   "cell_type": "code",
   "execution_count": null,
   "metadata": {},
   "outputs": [],
   "source": [
    "ter = pd.read_parquet(processed / 'ter.parquet.gzip')\n",
    "ter['Territory'] = ter['Territory'].str.replace('Centro (I)','Centro')\n",
    "ter['Territory'] = ter['Territory'].str.replace('Valle D\\'Aosta / Vallée D\\'Aoste','Valle d\\'Aosta')\n",
    "ter['Territory'] = ter['Territory'].str.replace('Trentino Alto Adige / Südtirol','Trentino-Alto Adige')\n",
    "ter['Territory'] = ter['Territory'].str.replace('Friuli-Venezia Giulia','Friuli Venezia Giulia')\n",
    "ter.to_parquet(processed / 'ter.parquet.gzip', compression='gzip')\n",
    "ter.to_csv(processed / 'ter.csv', encoding = 'utf-8-sig', index = False)"
   ]
  }
 ],
 "metadata": {
  "language_info": {
   "name": "python"
  },
  "orig_nbformat": 4
 },
 "nbformat": 4,
 "nbformat_minor": 2
}
