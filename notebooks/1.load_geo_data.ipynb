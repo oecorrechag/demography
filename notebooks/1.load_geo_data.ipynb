{
 "cells": [
  {
   "cell_type": "code",
   "execution_count": 1,
   "metadata": {},
   "outputs": [],
   "source": [
    "%load_ext autoreload\n",
    "%autoreload 2"
   ]
  },
  {
   "cell_type": "code",
   "execution_count": 2,
   "metadata": {},
   "outputs": [],
   "source": [
    "import pandas as pd\n",
    "import geopandas as gpd \n",
    "import numpy as np\n",
    "\n",
    "import matplotlib.pyplot as plt\n",
    "import plotly.express as px\n",
    "\n",
    "pd.set_option('display.max_columns', None)\n",
    "pd.set_option('display.max_rows', None)\n",
    "import warnings\n",
    "warnings.filterwarnings(\"ignore\")"
   ]
  },
  {
   "cell_type": "code",
   "execution_count": 3,
   "metadata": {},
   "outputs": [],
   "source": [
    "import sys\n",
    "sys.path.append(\"../\") \n",
    "\n",
    "from utils.paths import make_dir_line\n",
    "\n",
    "modality = 'u'\n",
    "project = 'Ciencia de los datos'\n",
    "data = make_dir_line(modality, project)\n",
    "\n",
    "raw = data('raw')"
   ]
  },
  {
   "cell_type": "markdown",
   "metadata": {},
   "source": [
    "# Codes to read\n",
    "\n",
    "- COD_RIP: Código numérico de la distribución geográfica (5 modalidades) \n",
    "- COD_REG: Código numérico que identifica de forma única las 20 regiones italianos en el territorio nacional.\n",
    "- COD_PROV: Código numérico que identifica de manera única a la provincia dentro del territorio nacional.\n",
    "- COD_CM: Código istat de la ciudad metropolitana (tres caracteres en formato numérico) que se obtiene sumando el valor 200 al código correspondiente de la provincia. \n",
    "- COD_UTS: Código numérico de las unidades territoriales supramunicipales"
   ]
  },
  {
   "cell_type": "markdown",
   "metadata": {},
   "source": [
    "- PRO_COM: Código de municipio (numérico).\n",
    "- PRO_COM_T: Código de municipio (alfanumérico)."
   ]
  },
  {
   "cell_type": "markdown",
   "metadata": {},
   "source": [
    "- DEN_RIP: División de las regiones en cinco divisiones: Noroeste, Noreste, Centro, Sur e Islas.\n",
    "- DEN_REG: Nombre de la Región\n",
    "- DEN_PROV: Nombre de la provincia a la que pertenece.\n",
    "- DEN_CM: Nombre de la ciudad metropolitana a la que pertenece.\n",
    "- DEN_UTS: Nombre de las unidades territoriales supramunicipales."
   ]
  },
  {
   "cell_type": "markdown",
   "metadata": {},
   "source": [
    "- COMUNE: Nombre del Municipio.\n",
    "- COMUNE_A: Nombre del Municipio en un idioma diferente al italiano. "
   ]
  },
  {
   "cell_type": "markdown",
   "metadata": {},
   "source": [
    "- CC_UTS: Capital de provincia o ciudad metropolitana."
   ]
  },
  {
   "cell_type": "markdown",
   "metadata": {},
   "source": [
    "- SIGLA: Código vehicular de las provincias, ciudades metropolitanas o consorcios libres.\n",
    "- TIPO_UTS: Campo alfanumérico que identifica el tipo de unidad territorial supramunicipal."
   ]
  },
  {
   "cell_type": "markdown",
   "metadata": {},
   "source": [
    "- Shape_Leng: Polygon shape\n",
    "- Shape_Area: Polygon area\n",
    "- geometry: geometry"
   ]
  },
  {
   "cell_type": "code",
   "execution_count": null,
   "metadata": {},
   "outputs": [],
   "source": [
    "geo = gpd.read_file(raw / \"Limiti01012023_g/Com01012023_g/Com01012023_g_WGS84.shp\")\n",
    "geo.geometry = geo.geometry.to_crs(epsg = 4326)\n",
    "geo = geo.loc[:,['geometry','COD_CM','COMUNE']]\n",
    "\n",
    "geo.plot()\n",
    "plt.show()"
   ]
  },
  {
   "cell_type": "code",
   "execution_count": 6,
   "metadata": {},
   "outputs": [],
   "source": [
    "geo = gpd.read_file(raw / \"Limiti01012023_g/ProvCM01012023_g/ProvCM01012023_g_WGS84.shp\")\n",
    "geo.geometry = geo.geometry.to_crs(epsg = 4326)\n",
    "geo = geo.loc[:,['geometry','COD_PROV','DEN_PROV']]\n",
    "\n",
    "geo.plot()\n",
    "plt.show()"
   ]
  },
  {
   "cell_type": "code",
   "execution_count": null,
   "metadata": {},
   "outputs": [],
   "source": [
    "geo = gpd.read_file(raw / \"Limiti01012023_g/Reg01012023_g/Reg01012023_g_WGS84.shp\")\n",
    "geo.geometry = geo.geometry.to_crs(epsg = 4326)\n",
    "geo = geo.loc[:,['geometry','COD_REG','DEN_REG']]\n",
    "\n",
    "geo.plot()\n",
    "plt.show()"
   ]
  },
  {
   "cell_type": "code",
   "execution_count": null,
   "metadata": {},
   "outputs": [],
   "source": [
    "geo = gpd.read_file(raw / \"Limiti01012023_g/RipGeo01012023_g/RipGeo01012023_g_WGS84.shp\")\n",
    "geo.geometry = geo.geometry.to_crs(epsg = 4326)\n",
    "geo = geo.loc[:,['geometry','COD_RIP','DEN_RIP']]\n",
    "\n",
    "geo.plot()\n",
    "plt.show()"
   ]
  },
  {
   "cell_type": "code",
   "execution_count": null,
   "metadata": {},
   "outputs": [],
   "source": [
    "print('Vane y Oscar')"
   ]
  }
 ],
 "metadata": {
  "kernelspec": {
   "display_name": "Python 3",
   "language": "python",
   "name": "python3"
  },
  "language_info": {
   "codemirror_mode": {
    "name": "ipython",
    "version": 3
   },
   "file_extension": ".py",
   "mimetype": "text/x-python",
   "name": "python",
   "nbconvert_exporter": "python",
   "pygments_lexer": "ipython3",
   "version": "3.11.4"
  },
  "orig_nbformat": 4
 },
 "nbformat": 4,
 "nbformat_minor": 2
}
