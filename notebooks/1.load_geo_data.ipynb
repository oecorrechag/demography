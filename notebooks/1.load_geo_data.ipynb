{
 "cells": [
  {
   "cell_type": "code",
   "execution_count": null,
   "metadata": {},
   "outputs": [],
   "source": [
    "%load_ext autoreload\n",
    "%autoreload 2"
   ]
  },
  {
   "cell_type": "code",
   "execution_count": null,
   "metadata": {},
   "outputs": [],
   "source": [
    "import pandas as pd\n",
    "import geopandas as gpd \n",
    "import numpy as np\n",
    "\n",
    "import matplotlib.pyplot as plt\n",
    "import plotly.express as px\n",
    "\n",
    "pd.set_option('display.max_columns', None)\n",
    "pd.set_option('display.max_rows', None)\n",
    "import warnings\n",
    "warnings.filterwarnings(\"ignore\")"
   ]
  },
  {
   "cell_type": "code",
   "execution_count": null,
   "metadata": {},
   "outputs": [],
   "source": [
    "import sys\n",
    "sys.path.append(\"../\") \n",
    "\n",
    "from utils.paths import make_dir_line\n",
    "\n",
    "modality = 'u'\n",
    "project = 'Ciencia de los datos'\n",
    "data = make_dir_line(modality, project)\n",
    "\n",
    "raw = data('raw')"
   ]
  },
  {
   "cell_type": "code",
   "execution_count": null,
   "metadata": {},
   "outputs": [],
   "source": [
    "geo = gpd.read_file(raw / \"Limiti01012023_g/Com01012023_g/Com01012023_g_WGS84.shp\")\n",
    "geo.geometry = geo.geometry.to_crs(epsg = 4326)\n",
    "geo = geo.loc[:,['geometry','COD_CM','COMUNE']]\n",
    "\n",
    "geo.plot()\n",
    "plt.show()"
   ]
  },
  {
   "cell_type": "code",
   "execution_count": null,
   "metadata": {},
   "outputs": [],
   "source": [
    "geo = gpd.read_file(raw / \"Limiti01012023_g/ProvCM01012023_g/ProvCM01012023_g_WGS84.shp\")\n",
    "geo.geometry = geo.geometry.to_crs(epsg = 4326)\n",
    "geo = geo.loc[:,['geometry','COD_CM','DEN_UTS']]\n",
    "\n",
    "geo.plot()\n",
    "plt.show()"
   ]
  },
  {
   "cell_type": "code",
   "execution_count": null,
   "metadata": {},
   "outputs": [],
   "source": [
    "geo = gpd.read_file(raw / \"Limiti01012023_g/Reg01012023_g/Reg01012023_g_WGS84.shp\")\n",
    "geo.geometry = geo.geometry.to_crs(epsg = 4326)\n",
    "geo = geo.loc[:,['geometry','COD_REG','DEN_REG']]\n",
    "\n",
    "geo.plot()\n",
    "plt.show()"
   ]
  },
  {
   "cell_type": "code",
   "execution_count": null,
   "metadata": {},
   "outputs": [],
   "source": [
    "geo = gpd.read_file(raw / \"Limiti01012023_g/RipGeo01012023_g/RipGeo01012023_g_WGS84.shp\")\n",
    "geo.geometry = geo.geometry.to_crs(epsg = 4326)\n",
    "geo = geo.loc[:,['geometry','COD_RIP','DEN_RIP']]\n",
    "\n",
    "geo.plot()\n",
    "plt.show()"
   ]
  },
  {
   "cell_type": "code",
   "execution_count": null,
   "metadata": {},
   "outputs": [],
   "source": [
    "print('Ok_')"
   ]
  }
 ],
 "metadata": {
  "kernelspec": {
   "display_name": "Python 3",
   "language": "python",
   "name": "python3"
  },
  "language_info": {
   "codemirror_mode": {
    "name": "ipython",
    "version": 3
   },
   "file_extension": ".py",
   "mimetype": "text/x-python",
   "name": "python",
   "nbconvert_exporter": "python",
   "pygments_lexer": "ipython3",
   "version": "3.11.0"
  },
  "orig_nbformat": 4
 },
 "nbformat": 4,
 "nbformat_minor": 2
}
