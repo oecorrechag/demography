{
 "cells": [
  {
   "cell_type": "code",
   "execution_count": 1,
   "metadata": {},
   "outputs": [],
   "source": [
    "%load_ext autoreload\n",
    "%autoreload 2"
   ]
  },
  {
   "cell_type": "code",
   "execution_count": 2,
   "metadata": {},
   "outputs": [],
   "source": [
    "import pandas as pd\n",
    "import polars as pl\n",
    "import geopandas as gpd \n",
    "import numpy as np\n",
    "import re\n",
    "import time\n",
    "\n",
    "import matplotlib.pyplot as plt\n",
    "import plotly.express as px\n",
    "\n",
    "pd.set_option('display.max_columns', None)\n",
    "pd.set_option('display.max_rows', None)\n",
    "import warnings\n",
    "warnings.filterwarnings(\"ignore\")"
   ]
  },
  {
   "cell_type": "code",
   "execution_count": 3,
   "metadata": {},
   "outputs": [],
   "source": [
    "import sys\n",
    "sys.path.append(\"../\") \n",
    "\n",
    "from utils.paths import make_dir_line\n",
    "\n",
    "modality = 'u'\n",
    "project = 'Ciencia de los datos'\n",
    "data = make_dir_line(modality, project)\n",
    "\n",
    "raw = data('raw')\n",
    "processed = data('processed')"
   ]
  },
  {
   "cell_type": "code",
   "execution_count": 4,
   "metadata": {},
   "outputs": [],
   "source": [
    "file_path = raw / 'DCIS_POPRES1 - Resident population on 1st January - full dataset.csv'\n",
    "chunk_size = 1000000  # Cantidad de filas por fragmento\n",
    "parts = 500\n",
    "i = 0\n",
    "re_express = re.compile('(\\d{1,3})( years)(.*)')\n",
    "dfs = []\n",
    "dfs2 = []"
   ]
  },
  {
   "cell_type": "code",
   "execution_count": 5,
   "metadata": {},
   "outputs": [],
   "source": [
    "# df = pd.read_csv(raw / 'DCIS_POPRES1 - Resident population on 1st January - full dataset.csv', \n",
    "#                  sep = ',', decimal = '.', header = 0, encoding = 'utf-8')\n",
    "# df.head()"
   ]
  },
  {
   "cell_type": "code",
   "execution_count": 6,
   "metadata": {},
   "outputs": [],
   "source": [
    "# Codigo de dia 1\n",
    "\n",
    "# # Iterar sobre los fragmentos\n",
    "# i = 0\n",
    "# for chunk in pd.read_csv(file_path, chunksize=chunk_size, sep = '|', decimal = '.', header = 0, encoding = 'utf-8'):\n",
    "#     if i == parts + 1:\n",
    "#         print('parte: ', i)\n",
    "#         break\n",
    "#     else:\n",
    "#         chunk = chunk[(chunk['TIME'] == 2022) & (chunk['SEXISTAT1'] != 9) \n",
    "#                     & (chunk['STATCIV2'] != 99) & (chunk['Age'] != 'total')]\n",
    "        \n",
    "#         ter = chunk.copy()\n",
    "#         ter = ter.loc[:,['ITTER107', 'Territory']]\n",
    "#         ter['ITTER107'] = ter['ITTER107'].astype(str)\n",
    "        \n",
    "#         chunk = chunk.loc[:,['ITTER107', 'SEXISTAT1', 'Age', 'STATCIV2', 'Value']]\n",
    "#         chunk['Age'] = chunk['Age'].str.replace(re_express, r'\\1', regex=True)\n",
    "#         chunk['ITTER107'] = chunk['ITTER107'].astype(str)\n",
    "#         chunk['Age'] = chunk['Age'].astype(int)\n",
    "#         # meter en una lista\n",
    "#         dfs.append(chunk)\n",
    "#         dfs2.append(ter)\n",
    "#         i = i + 1\n",
    "#         if i%5==0:\n",
    "#             print(i) \n",
    "# # concatenar y guardar\n",
    "# print('concatenando')\n",
    "# chunk = pd.concat(dfs, ignore_index=True)\n",
    "# ter = pd.concat(dfs2, ignore_index=True)\n",
    "# ter = ter.drop_duplicates()\n",
    "# print('saving')\n",
    "# chunk.to_parquet(processed / 'chunk.parquet.gzip', compression='gzip')\n",
    "# ter.to_parquet(processed / 'ter.parquet.gzip', compression='gzip')"
   ]
  },
  {
   "cell_type": "code",
   "execution_count": 7,
   "metadata": {},
   "outputs": [
    {
     "name": "stdout",
     "output_type": "stream",
     "text": [
      "5\n",
      "concatenando\n",
      "saving\n",
      "10\n",
      "concatenando\n",
      "saving\n",
      "15\n",
      "concatenando\n",
      "saving\n",
      "20\n",
      "concatenando\n",
      "saving\n",
      "25\n",
      "concatenando\n",
      "saving\n"
     ]
    },
    {
     "ename": "OSError",
     "evalue": "[Errno 22] Invalid argument",
     "output_type": "error",
     "traceback": [
      "\u001b[1;31m---------------------------------------------------------------------------\u001b[0m",
      "\u001b[1;31mOSError\u001b[0m                                   Traceback (most recent call last)",
      "\u001b[1;32mc:\\Users\\Oscar\\Documents\\GitHub\\demography\\notebooks\\2.load_data.ipynb Cell 7\u001b[0m in \u001b[0;36m2\n\u001b[0;32m      <a href='vscode-notebook-cell:/c%3A/Users/Oscar/Documents/GitHub/demography/notebooks/2.load_data.ipynb#W6sZmlsZQ%3D%3D?line=0'>1</a>\u001b[0m \u001b[39m# Iterar sobre los fragmentos\u001b[39;00m\n\u001b[1;32m----> <a href='vscode-notebook-cell:/c%3A/Users/Oscar/Documents/GitHub/demography/notebooks/2.load_data.ipynb#W6sZmlsZQ%3D%3D?line=1'>2</a>\u001b[0m \u001b[39mfor\u001b[39;00m chunk \u001b[39min\u001b[39;00m pd\u001b[39m.\u001b[39mread_csv(file_path, chunksize\u001b[39m=\u001b[39mchunk_size, sep \u001b[39m=\u001b[39m \u001b[39m'\u001b[39m\u001b[39m|\u001b[39m\u001b[39m'\u001b[39m, decimal \u001b[39m=\u001b[39m \u001b[39m'\u001b[39m\u001b[39m.\u001b[39m\u001b[39m'\u001b[39m, header \u001b[39m=\u001b[39m \u001b[39m0\u001b[39m, encoding \u001b[39m=\u001b[39m \u001b[39m'\u001b[39m\u001b[39mutf-8\u001b[39m\u001b[39m'\u001b[39m):\n\u001b[0;32m      <a href='vscode-notebook-cell:/c%3A/Users/Oscar/Documents/GitHub/demography/notebooks/2.load_data.ipynb#W6sZmlsZQ%3D%3D?line=2'>3</a>\u001b[0m     \u001b[39mif\u001b[39;00m i \u001b[39m==\u001b[39m parts \u001b[39m+\u001b[39m \u001b[39m1\u001b[39m:\n\u001b[0;32m      <a href='vscode-notebook-cell:/c%3A/Users/Oscar/Documents/GitHub/demography/notebooks/2.load_data.ipynb#W6sZmlsZQ%3D%3D?line=3'>4</a>\u001b[0m         \u001b[39mprint\u001b[39m(\u001b[39m'\u001b[39m\u001b[39mparte: \u001b[39m\u001b[39m'\u001b[39m, i)\n",
      "File \u001b[1;32m~\\AppData\\Roaming\\Python\\Python311\\site-packages\\pandas\\io\\parsers\\readers.py:1624\u001b[0m, in \u001b[0;36mTextFileReader.__next__\u001b[1;34m(self)\u001b[0m\n\u001b[0;32m   1622\u001b[0m \u001b[39mdef\u001b[39;00m \u001b[39m__next__\u001b[39m(\u001b[39mself\u001b[39m) \u001b[39m-\u001b[39m\u001b[39m>\u001b[39m DataFrame:\n\u001b[0;32m   1623\u001b[0m     \u001b[39mtry\u001b[39;00m:\n\u001b[1;32m-> 1624\u001b[0m         \u001b[39mreturn\u001b[39;00m \u001b[39mself\u001b[39;49m\u001b[39m.\u001b[39;49mget_chunk()\n\u001b[0;32m   1625\u001b[0m     \u001b[39mexcept\u001b[39;00m \u001b[39mStopIteration\u001b[39;00m:\n\u001b[0;32m   1626\u001b[0m         \u001b[39mself\u001b[39m\u001b[39m.\u001b[39mclose()\n",
      "File \u001b[1;32m~\\AppData\\Roaming\\Python\\Python311\\site-packages\\pandas\\io\\parsers\\readers.py:1733\u001b[0m, in \u001b[0;36mTextFileReader.get_chunk\u001b[1;34m(self, size)\u001b[0m\n\u001b[0;32m   1731\u001b[0m         \u001b[39mraise\u001b[39;00m \u001b[39mStopIteration\u001b[39;00m\n\u001b[0;32m   1732\u001b[0m     size \u001b[39m=\u001b[39m \u001b[39mmin\u001b[39m(size, \u001b[39mself\u001b[39m\u001b[39m.\u001b[39mnrows \u001b[39m-\u001b[39m \u001b[39mself\u001b[39m\u001b[39m.\u001b[39m_currow)\n\u001b[1;32m-> 1733\u001b[0m \u001b[39mreturn\u001b[39;00m \u001b[39mself\u001b[39;49m\u001b[39m.\u001b[39;49mread(nrows\u001b[39m=\u001b[39;49msize)\n",
      "File \u001b[1;32m~\\AppData\\Roaming\\Python\\Python311\\site-packages\\pandas\\io\\parsers\\readers.py:1704\u001b[0m, in \u001b[0;36mTextFileReader.read\u001b[1;34m(self, nrows)\u001b[0m\n\u001b[0;32m   1697\u001b[0m nrows \u001b[39m=\u001b[39m validate_integer(\u001b[39m\"\u001b[39m\u001b[39mnrows\u001b[39m\u001b[39m\"\u001b[39m, nrows)\n\u001b[0;32m   1698\u001b[0m \u001b[39mtry\u001b[39;00m:\n\u001b[0;32m   1699\u001b[0m     \u001b[39m# error: \"ParserBase\" has no attribute \"read\"\u001b[39;00m\n\u001b[0;32m   1700\u001b[0m     (\n\u001b[0;32m   1701\u001b[0m         index,\n\u001b[0;32m   1702\u001b[0m         columns,\n\u001b[0;32m   1703\u001b[0m         col_dict,\n\u001b[1;32m-> 1704\u001b[0m     ) \u001b[39m=\u001b[39m \u001b[39mself\u001b[39;49m\u001b[39m.\u001b[39;49m_engine\u001b[39m.\u001b[39;49mread(  \u001b[39m# type: ignore[attr-defined]\u001b[39;49;00m\n\u001b[0;32m   1705\u001b[0m         nrows\n\u001b[0;32m   1706\u001b[0m     )\n\u001b[0;32m   1707\u001b[0m \u001b[39mexcept\u001b[39;00m \u001b[39mException\u001b[39;00m:\n\u001b[0;32m   1708\u001b[0m     \u001b[39mself\u001b[39m\u001b[39m.\u001b[39mclose()\n",
      "File \u001b[1;32m~\\AppData\\Roaming\\Python\\Python311\\site-packages\\pandas\\io\\parsers\\c_parser_wrapper.py:234\u001b[0m, in \u001b[0;36mCParserWrapper.read\u001b[1;34m(self, nrows)\u001b[0m\n\u001b[0;32m    232\u001b[0m \u001b[39mtry\u001b[39;00m:\n\u001b[0;32m    233\u001b[0m     \u001b[39mif\u001b[39;00m \u001b[39mself\u001b[39m\u001b[39m.\u001b[39mlow_memory:\n\u001b[1;32m--> 234\u001b[0m         chunks \u001b[39m=\u001b[39m \u001b[39mself\u001b[39m\u001b[39m.\u001b[39m_reader\u001b[39m.\u001b[39mread_low_memory(nrows)\n\u001b[0;32m    235\u001b[0m         \u001b[39m# destructive to chunks\u001b[39;00m\n\u001b[0;32m    236\u001b[0m         data \u001b[39m=\u001b[39m _concatenate_chunks(chunks)\n",
      "File \u001b[1;32m~\\AppData\\Roaming\\Python\\Python311\\site-packages\\pandas\\_libs\\parsers.pyx:824\u001b[0m, in \u001b[0;36mpandas._libs.parsers.TextReader.read_low_memory\u001b[1;34m()\u001b[0m\n",
      "File \u001b[1;32m~\\AppData\\Roaming\\Python\\Python311\\site-packages\\pandas\\_libs\\parsers.pyx:873\u001b[0m, in \u001b[0;36mpandas._libs.parsers.TextReader._read_rows\u001b[1;34m()\u001b[0m\n",
      "File \u001b[1;32m~\\AppData\\Roaming\\Python\\Python311\\site-packages\\pandas\\_libs\\parsers.pyx:848\u001b[0m, in \u001b[0;36mpandas._libs.parsers.TextReader._tokenize_rows\u001b[1;34m()\u001b[0m\n",
      "File \u001b[1;32m~\\AppData\\Roaming\\Python\\Python311\\site-packages\\pandas\\_libs\\parsers.pyx:859\u001b[0m, in \u001b[0;36mpandas._libs.parsers.TextReader._check_tokenize_status\u001b[1;34m()\u001b[0m\n",
      "File \u001b[1;32m~\\AppData\\Roaming\\Python\\Python311\\site-packages\\pandas\\_libs\\parsers.pyx:2017\u001b[0m, in \u001b[0;36mpandas._libs.parsers.raise_parser_error\u001b[1;34m()\u001b[0m\n",
      "\u001b[1;31mOSError\u001b[0m: [Errno 22] Invalid argument"
     ]
    }
   ],
   "source": [
    "# Iterar sobre los fragmentos\n",
    "for chunk in pd.read_csv(file_path, chunksize=chunk_size, sep = '|', decimal = '.', header = 0, encoding = 'utf-8'):\n",
    "    if i == parts + 1:\n",
    "        print('parte: ', i)\n",
    "        break\n",
    "    else:\n",
    "        chunk = chunk[(chunk['TIME'] == 2022) & (chunk['SEXISTAT1'] != 9) \n",
    "                    & (chunk['STATCIV2'] != 99) & (chunk['Age'] != 'total')]\n",
    "        \n",
    "        ter = chunk.copy()\n",
    "        ter = ter.loc[:,['ITTER107', 'Territory']]\n",
    "        ter['ITTER107'] = ter['ITTER107'].astype(str)\n",
    "        ter['Territory'] = ter['Territory'].str.title()\n",
    "                \n",
    "        chunk = chunk.loc[:,['ITTER107', 'SEXISTAT1', 'Age', 'STATCIV2', 'Value']]\n",
    "        chunk['Age'] = chunk['Age'].str.replace(re_express, r'\\1', regex=True)\n",
    "        chunk['ITTER107'] = chunk['ITTER107'].astype(str)\n",
    "        chunk['Age'] = chunk['Age'].astype(int)\n",
    "        \n",
    "        # meter en una lista\n",
    "        dfs.append(chunk)\n",
    "        dfs2.append(ter)\n",
    "        i = i + 1\n",
    "        if i%5==0:\n",
    "            print(i) \n",
    "            # concatenar y guardar\n",
    "            print('concatenando')\n",
    "            chunk = pd.concat(dfs, ignore_index=True)\n",
    "            ter = pd.concat(dfs2, ignore_index=True)\n",
    "            ter = ter.drop_duplicates()\n",
    "            print('saving')\n",
    "            chunk.to_parquet(processed / 'chunk.parquet.gzip', compression='gzip')\n",
    "            chunk.to_csv(processed / 'chunk.csv', encoding = 'utf-8-sig', index = False)\n",
    "            ter.to_parquet(processed / 'ter.parquet.gzip', compression='gzip')\n",
    "            ter.to_csv(processed / 'ter.csv', encoding = 'utf-8-sig', index = False)"
   ]
  },
  {
   "cell_type": "code",
   "execution_count": 10,
   "metadata": {},
   "outputs": [],
   "source": [
    "ter = pd.read_parquet(processed / 'ter.parquet.gzip')\n",
    "ter['Territory'] = ter['Territory'].str.replace('Centro (I)','Centro')\n",
    "ter['Territory'] = ter['Territory'].str.replace('Trentino Alto Adige / Südtirol','Trentino-Alto Adige')\n",
    "ter['Territory'] = ter['Territory'].str.replace('Friuli-Venezia Giulia','Friuli Venezia Giulia')\n",
    "ter['Territory'] = ter['Territory'].str.replace('Provincia Autonoma Trento','Trentino-Alto Adige')\n",
    "\n",
    "# ter.loc[(ter['Territory'] == 'Provincia Autonoma Bolzano / Bozen') \n",
    "#       & (ter['ITTER107'] == 'ITC1'), 'Territory'] = 'Valle d\\'Aosta'\n",
    "ter.loc[(ter['Territory'] == 'Valle D\\'Aosta / Vallée D\\'Aoste') \n",
    "      & (ter['ITTER107'] == 'ITC2'), 'Territory'] = 'Valle d\\'Aosta'\n",
    "\n",
    "\n",
    "\n",
    "\n",
    "ter.loc[(ter['Territory'] == 'Bolzano / Bozen') \n",
    "      & (ter['ITTER107'] == 'ITC10'), 'Territory'] = 'Bolzano'\n",
    "ter.loc[(ter['Territory'] == 'Valle D\\'Aosta / Vallée D\\'Aoste') \n",
    "      & (ter['ITTER107'] == 'ITC20'), 'Territory'] = 'Aosta'\n",
    "\n",
    "ter.to_parquet(processed / 'ter2.parquet.gzip', compression='gzip')\n",
    "ter.to_csv(processed / 'ter2.csv', encoding = 'utf-8-sig', index = False)"
   ]
  },
  {
   "attachments": {},
   "cell_type": "markdown",
   "metadata": {},
   "source": [
    "SEXISTAT1\n",
    "\n",
    "1- Male   <br>\n",
    "2- Female <br>\n",
    "9- Total  <br>\n",
    "\n",
    "STATCIV2\n",
    "1- never married <br>\n",
    "2- married       <br>\n",
    "3- divorced      <br>\n",
    "4- widowed       <br>\n",
    "99- total        <br>\n",
    "\n",
    "columns of italy <br>\n",
    "Index(['ITTER107', 'Territory', 'TIPO_DATO15', 'Demographic data type',\n",
    "       'SEXISTAT1', 'Gender', 'ETA1', 'Age', 'STATCIV2', 'Marital status',\n",
    "       'TIME', 'Select time', 'Value', 'Flag Codes', 'Flags'],\n",
    "      dtype='object')"
   ]
  },
  {
   "cell_type": "code",
   "execution_count": null,
   "metadata": {},
   "outputs": [],
   "source": [
    "print('Ok_')"
   ]
  }
 ],
 "metadata": {
  "kernelspec": {
   "display_name": "Python 3",
   "language": "python",
   "name": "python3"
  },
  "language_info": {
   "codemirror_mode": {
    "name": "ipython",
    "version": 3
   },
   "file_extension": ".py",
   "mimetype": "text/x-python",
   "name": "python",
   "nbconvert_exporter": "python",
   "pygments_lexer": "ipython3",
   "version": "3.11.0"
  },
  "orig_nbformat": 4
 },
 "nbformat": 4,
 "nbformat_minor": 2
}
