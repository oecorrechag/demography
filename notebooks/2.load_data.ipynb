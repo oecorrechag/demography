{
 "cells": [
  {
   "cell_type": "code",
   "execution_count": null,
   "metadata": {},
   "outputs": [],
   "source": [
    "%load_ext autoreload\n",
    "%autoreload 2"
   ]
  },
  {
   "cell_type": "code",
   "execution_count": null,
   "metadata": {},
   "outputs": [],
   "source": [
    "import pandas as pd\n",
    "import polars as pl\n",
    "import geopandas as gpd \n",
    "import numpy as np\n",
    "import re\n",
    "import time\n",
    "\n",
    "import matplotlib.pyplot as plt\n",
    "import plotly.express as px\n",
    "\n",
    "pd.set_option('display.max_columns', None)\n",
    "pd.set_option('display.max_rows', None)\n",
    "import warnings\n",
    "warnings.filterwarnings(\"ignore\")"
   ]
  },
  {
   "cell_type": "code",
   "execution_count": null,
   "metadata": {},
   "outputs": [],
   "source": [
    "import sys\n",
    "sys.path.append(\"../\") \n",
    "\n",
    "from utils.paths import make_dir_line\n",
    "\n",
    "modality = 'u'\n",
    "project = 'Ciencia de los datos'\n",
    "data = make_dir_line(modality, project)\n",
    "\n",
    "raw = data('raw')\n",
    "processed = data('processed')"
   ]
  },
  {
   "cell_type": "code",
   "execution_count": null,
   "metadata": {},
   "outputs": [],
   "source": [
    "file_path = raw / 'DCIS_POPRES1 - Resident population on 1st January - full dataset.csv'\n",
    "chunk_size = 1000000  # Cantidad de filas por fragmento\n",
    "parts = 500\n",
    "i = 0\n",
    "re_express = re.compile('(\\d{1,3})( years)(.*)')\n",
    "dfs = []\n",
    "dfs2 = []"
   ]
  },
  {
   "cell_type": "code",
   "execution_count": null,
   "metadata": {},
   "outputs": [],
   "source": [
    "# df = pd.read_csv(raw / 'DCIS_POPRES1 - Resident population on 1st January - full dataset.csv', \n",
    "#                  sep = ',', decimal = '.', header = 0, encoding = 'utf-8')\n",
    "# df.head()"
   ]
  },
  {
   "cell_type": "code",
   "execution_count": null,
   "metadata": {},
   "outputs": [],
   "source": [
    "# Codigo de dia 1\n",
    "\n",
    "# # Iterar sobre los fragmentos\n",
    "# i = 0\n",
    "# for chunk in pd.read_csv(file_path, chunksize=chunk_size, sep = '|', decimal = '.', header = 0, encoding = 'utf-8'):\n",
    "#     if i == parts + 1:\n",
    "#         print('parte: ', i)\n",
    "#         break\n",
    "#     else:\n",
    "#         chunk = chunk[(chunk['TIME'] == 2022) & (chunk['SEXISTAT1'] != 9) \n",
    "#                     & (chunk['STATCIV2'] != 99) & (chunk['Age'] != 'total')]\n",
    "        \n",
    "#         ter = chunk.copy()\n",
    "#         ter = ter.loc[:,['ITTER107', 'Territory']]\n",
    "#         ter['ITTER107'] = ter['ITTER107'].astype(str)\n",
    "        \n",
    "#         chunk = chunk.loc[:,['ITTER107', 'SEXISTAT1', 'Age', 'STATCIV2', 'Value']]\n",
    "#         chunk['Age'] = chunk['Age'].str.replace(re_express, r'\\1', regex=True)\n",
    "#         chunk['ITTER107'] = chunk['ITTER107'].astype(str)\n",
    "#         chunk['Age'] = chunk['Age'].astype(int)\n",
    "#         # meter en una lista\n",
    "#         dfs.append(chunk)\n",
    "#         dfs2.append(ter)\n",
    "#         i = i + 1\n",
    "#         if i%5==0:\n",
    "#             print(i) \n",
    "# # concatenar y guardar\n",
    "# print('concatenando')\n",
    "# chunk = pd.concat(dfs, ignore_index=True)\n",
    "# ter = pd.concat(dfs2, ignore_index=True)\n",
    "# ter = ter.drop_duplicates()\n",
    "# print('saving')\n",
    "# chunk.to_parquet(processed / 'chunk.parquet.gzip', compression='gzip')\n",
    "# ter.to_parquet(processed / 'ter.parquet.gzip', compression='gzip')"
   ]
  },
  {
   "cell_type": "code",
   "execution_count": null,
   "metadata": {},
   "outputs": [],
   "source": [
    "# Iterar sobre los fragmentos\n",
    "for chunk in pd.read_csv(file_path, chunksize=chunk_size, sep = '|', decimal = '.', header = 0, encoding = 'utf-8'):\n",
    "    if i == parts + 1:\n",
    "        print('parte: ', i)\n",
    "        break\n",
    "    else:\n",
    "        chunk = chunk[(chunk['TIME'] == 2022) & (chunk['SEXISTAT1'] != 9) \n",
    "                    & (chunk['STATCIV2'] != 99) & (chunk['Age'] != 'total')]\n",
    "        \n",
    "        ter = chunk.copy()\n",
    "        ter = ter.loc[:,['ITTER107', 'Territory']]\n",
    "        ter['ITTER107'] = ter['ITTER107'].astype(str)\n",
    "        ter['Territory'] = ter['Territory'].str.title()\n",
    "                \n",
    "        chunk = chunk.loc[:,['ITTER107', 'SEXISTAT1', 'Age', 'STATCIV2', 'Value']]\n",
    "        chunk['Age'] = chunk['Age'].str.replace(re_express, r'\\1', regex=True)\n",
    "        chunk['ITTER107'] = chunk['ITTER107'].astype(str)\n",
    "        chunk['Age'] = chunk['Age'].astype(int)\n",
    "        \n",
    "        # meter en una lista\n",
    "        dfs.append(chunk)\n",
    "        dfs2.append(ter)\n",
    "        i = i + 1\n",
    "        if i%5==0:\n",
    "            print(i) \n",
    "            # concatenar y guardar\n",
    "            print('concatenando')\n",
    "            chunk = pd.concat(dfs, ignore_index=True)\n",
    "            ter = pd.concat(dfs2, ignore_index=True)\n",
    "            ter = ter.drop_duplicates()\n",
    "            print('saving')\n",
    "            chunk.to_parquet(processed / 'chunk.parquet.gzip', compression='gzip')\n",
    "            chunk.to_csv(processed / 'chunk.csv', encoding = 'utf-8-sig', index = False)\n",
    "            ter.to_parquet(processed / 'ter.parquet.gzip', compression='gzip')\n",
    "            ter.to_csv(processed / 'ter.csv', encoding = 'utf-8-sig', index = False)"
   ]
  },
  {
   "cell_type": "code",
   "execution_count": null,
   "metadata": {},
   "outputs": [],
   "source": [
    "ter['Territory'] = ter['Territory'].str.replace('Centro (I)','Centro')\n",
    "ter['Territory'] = ter['Territory'].str.replace('Valle D\\'Aosta / Vallée D\\'Aoste','Valle d\\'Aosta')\n",
    "ter['Territory'] = ter['Territory'].str.replace('Trentino Alto Adige / Südtirol','Trentino-Alto Adige')\n",
    "ter['Territory'] = ter['Territory'].str.replace('Friuli-Venezia Giulia','Friuli Venezia Giulia')\n",
    "ter.to_parquet(processed / 'ter.parquet.gzip', compression='gzip')\n",
    "ter.to_csv(processed / 'ter.csv', encoding = 'utf-8-sig', index = False)"
   ]
  },
  {
   "attachments": {},
   "cell_type": "markdown",
   "metadata": {},
   "source": [
    "SEXISTAT1\n",
    "\n",
    "1- Male   <br>\n",
    "2- Female <br>\n",
    "9- Total  <br>\n",
    "\n",
    "STATCIV2\n",
    "1- never married <br>\n",
    "2- married       <br>\n",
    "3- divorced      <br>\n",
    "4- widowed       <br>\n",
    "99- total        <br>\n",
    "\n",
    "columns of italy <br>\n",
    "Index(['ITTER107', 'Territory', 'TIPO_DATO15', 'Demographic data type',\n",
    "       'SEXISTAT1', 'Gender', 'ETA1', 'Age', 'STATCIV2', 'Marital status',\n",
    "       'TIME', 'Select time', 'Value', 'Flag Codes', 'Flags'],\n",
    "      dtype='object')"
   ]
  },
  {
   "cell_type": "code",
   "execution_count": null,
   "metadata": {},
   "outputs": [],
   "source": [
    "print('Ok_')"
   ]
  }
 ],
 "metadata": {
  "kernelspec": {
   "display_name": "Python 3",
   "language": "python",
   "name": "python3"
  },
  "language_info": {
   "codemirror_mode": {
    "name": "ipython",
    "version": 3
   },
   "file_extension": ".py",
   "mimetype": "text/x-python",
   "name": "python",
   "nbconvert_exporter": "python",
   "pygments_lexer": "ipython3",
   "version": "3.11.0"
  },
  "orig_nbformat": 4
 },
 "nbformat": 4,
 "nbformat_minor": 2
}
