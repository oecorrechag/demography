{
 "cells": [
  {
   "cell_type": "code",
   "execution_count": 1,
   "metadata": {},
   "outputs": [],
   "source": [
    "%load_ext autoreload\n",
    "%autoreload 2"
   ]
  },
  {
   "cell_type": "code",
   "execution_count": 2,
   "metadata": {},
   "outputs": [],
   "source": [
    "import pandas as pd\n",
    "import polars as pl\n",
    "import geopandas as gpd \n",
    "import numpy as np\n",
    "import re\n",
    "import time\n",
    "\n",
    "import matplotlib.pyplot as plt\n",
    "import plotly.express as px\n",
    "\n",
    "pd.set_option('display.max_columns', None)\n",
    "pd.set_option('display.max_rows', None)\n",
    "import warnings\n",
    "warnings.filterwarnings(\"ignore\")"
   ]
  },
  {
   "cell_type": "code",
   "execution_count": 3,
   "metadata": {},
   "outputs": [],
   "source": [
    "import sys\n",
    "sys.path.append(\"../\") \n",
    "\n",
    "from utils.paths import make_dir_line\n",
    "\n",
    "modality = 'u'\n",
    "project = 'Ciencia de los datos'\n",
    "data = make_dir_line(modality, project)\n",
    "\n",
    "raw = data('raw')\n",
    "processed = data('processed')"
   ]
  },
  {
   "cell_type": "code",
   "execution_count": 4,
   "metadata": {},
   "outputs": [],
   "source": [
    "file_path = raw / 'DCIS_POPRES1 - Resident population on 1st January - full dataset.csv'\n",
    "chunk_size = 1000000  # Cantidad de filas por fragmento\n",
    "parts = 500\n",
    "i = 0\n",
    "re_express = re.compile('(\\d{1,3})( years)(.*)')\n",
    "dfs = []\n",
    "dfs2 = []"
   ]
  },
  {
   "cell_type": "code",
   "execution_count": 5,
   "metadata": {},
   "outputs": [],
   "source": [
    "# df = pd.read_csv(raw / 'DCIS_POPRES1 - Resident population on 1st January - full dataset.csv', \n",
    "#                  sep = ',', decimal = '.', header = 0, encoding = 'utf-8')\n",
    "# df.head()"
   ]
  },
  {
   "cell_type": "code",
   "execution_count": 6,
   "metadata": {},
   "outputs": [],
   "source": [
    "# Codigo de dia 1\n",
    "\n",
    "# # Iterar sobre los fragmentos\n",
    "# i = 0\n",
    "# for chunk in pd.read_csv(file_path, chunksize=chunk_size, sep = '|', decimal = '.', header = 0, encoding = 'utf-8'):\n",
    "#     if i == parts + 1:\n",
    "#         print('parte: ', i)\n",
    "#         break\n",
    "#     else:\n",
    "#         chunk = chunk[(chunk['TIME'] == 2022) & (chunk['SEXISTAT1'] != 9) \n",
    "#                     & (chunk['STATCIV2'] != 99) & (chunk['Age'] != 'total')]\n",
    "        \n",
    "#         ter = chunk.copy()\n",
    "#         ter = ter.loc[:,['ITTER107', 'Territory']]\n",
    "#         ter['ITTER107'] = ter['ITTER107'].astype(str)\n",
    "        \n",
    "#         chunk = chunk.loc[:,['ITTER107', 'SEXISTAT1', 'Age', 'STATCIV2', 'Value']]\n",
    "#         chunk['Age'] = chunk['Age'].str.replace(re_express, r'\\1', regex=True)\n",
    "#         chunk['ITTER107'] = chunk['ITTER107'].astype(str)\n",
    "#         chunk['Age'] = chunk['Age'].astype(int)\n",
    "#         # meter en una lista\n",
    "#         dfs.append(chunk)\n",
    "#         dfs2.append(ter)\n",
    "#         i = i + 1\n",
    "#         if i%5==0:\n",
    "#             print(i) \n",
    "# # concatenar y guardar\n",
    "# print('concatenando')\n",
    "# chunk = pd.concat(dfs, ignore_index=True)\n",
    "# ter = pd.concat(dfs2, ignore_index=True)\n",
    "# ter = ter.drop_duplicates()\n",
    "# print('saving')\n",
    "# chunk.to_parquet(processed / 'chunk.parquet.gzip', compression='gzip')\n",
    "# ter.to_parquet(processed / 'ter.parquet.gzip', compression='gzip')"
   ]
  },
  {
   "cell_type": "code",
   "execution_count": 7,
   "metadata": {},
   "outputs": [
    {
     "name": "stdout",
     "output_type": "stream",
     "text": [
      "5\n",
      "concatenando\n",
      "saving\n",
      "10\n",
      "concatenando\n",
      "saving\n",
      "15\n",
      "concatenando\n",
      "saving\n",
      "20\n",
      "concatenando\n",
      "saving\n",
      "25\n",
      "concatenando\n",
      "saving\n",
      "30\n",
      "concatenando\n",
      "saving\n",
      "35\n",
      "concatenando\n",
      "saving\n",
      "40\n",
      "concatenando\n",
      "saving\n",
      "45\n",
      "concatenando\n",
      "saving\n",
      "50\n",
      "concatenando\n",
      "saving\n",
      "55\n",
      "concatenando\n",
      "saving\n",
      "60\n",
      "concatenando\n",
      "saving\n",
      "65\n",
      "concatenando\n",
      "saving\n",
      "70\n",
      "concatenando\n",
      "saving\n"
     ]
    }
   ],
   "source": [
    "# Iterar sobre los fragmentos\n",
    "for chunk in pd.read_csv(file_path, chunksize=chunk_size, sep = '|', decimal = '.', header = 0, encoding = 'utf-8'):\n",
    "    if i == parts + 1:\n",
    "        print('parte: ', i)\n",
    "        break\n",
    "    else:\n",
    "        chunk = chunk[(chunk['TIME'] == 2022) & (chunk['SEXISTAT1'] != 9) \n",
    "                    & (chunk['STATCIV2'] != 99) & (chunk['Age'] != 'total')]\n",
    "        ter = chunk.copy()\n",
    "        ter = ter.loc[:,['ITTER107', 'Territory']]\n",
    "        ter['ITTER107'] = ter['ITTER107'].astype(str)\n",
    "        chunk = chunk.loc[:,['ITTER107', 'SEXISTAT1', 'Age', 'STATCIV2', 'Value']]\n",
    "        chunk['Age'] = chunk['Age'].str.replace(re_express, r'\\1', regex=True)\n",
    "        chunk['ITTER107'] = chunk['ITTER107'].astype(str)\n",
    "        chunk['Age'] = chunk['Age'].astype(int)\n",
    "        # meter en una lista\n",
    "        dfs.append(chunk)\n",
    "        dfs2.append(ter)\n",
    "        i = i + 1\n",
    "        if i%5==0:\n",
    "            print(i) \n",
    "            # concatenar y guardar\n",
    "            print('concatenando')\n",
    "            chunk = pd.concat(dfs, ignore_index=True)\n",
    "            ter = pd.concat(dfs2, ignore_index=True)\n",
    "            ter = ter.drop_duplicates()\n",
    "            print('saving')\n",
    "            chunk.to_parquet(processed / 'chunk.parquet.gzip', compression='gzip')\n",
    "            ter.to_parquet(processed / 'ter.parquet.gzip', compression='gzip')\n",
    "           \n",
    "# # concatenar y guardar\n",
    "# print('concatenando')\n",
    "# chunk = pd.concat(dfs, ignore_index=True)\n",
    "# ter = pd.concat(dfs2, ignore_index=True)\n",
    "# ter = ter.drop_duplicates()\n",
    "# print('saving')\n",
    "# chunk.to_parquet(processed / 'chunk.parquet.gzip', compression='gzip')\n",
    "# ter.to_parquet(processed / 'ter.parquet.gzip', compression='gzip')"
   ]
  },
  {
   "cell_type": "code",
   "execution_count": null,
   "metadata": {},
   "outputs": [],
   "source": []
  },
  {
   "cell_type": "code",
   "execution_count": null,
   "metadata": {},
   "outputs": [],
   "source": []
  },
  {
   "cell_type": "code",
   "execution_count": 20,
   "metadata": {},
   "outputs": [
    {
     "data": {
      "text/html": [
       "<div>\n",
       "<style scoped>\n",
       "    .dataframe tbody tr th:only-of-type {\n",
       "        vertical-align: middle;\n",
       "    }\n",
       "\n",
       "    .dataframe tbody tr th {\n",
       "        vertical-align: top;\n",
       "    }\n",
       "\n",
       "    .dataframe thead th {\n",
       "        text-align: right;\n",
       "    }\n",
       "</style>\n",
       "<table border=\"1\" class=\"dataframe\">\n",
       "  <thead>\n",
       "    <tr style=\"text-align: right;\">\n",
       "      <th></th>\n",
       "      <th>ITTER107</th>\n",
       "      <th>SEXISTAT1</th>\n",
       "      <th>Age</th>\n",
       "      <th>STATCIV2</th>\n",
       "      <th>Value</th>\n",
       "    </tr>\n",
       "  </thead>\n",
       "  <tbody>\n",
       "    <tr>\n",
       "      <th>0</th>\n",
       "      <td>IT</td>\n",
       "      <td>1</td>\n",
       "      <td>0</td>\n",
       "      <td>1</td>\n",
       "      <td>205371.0</td>\n",
       "    </tr>\n",
       "    <tr>\n",
       "      <th>1</th>\n",
       "      <td>IT</td>\n",
       "      <td>2</td>\n",
       "      <td>0</td>\n",
       "      <td>1</td>\n",
       "      <td>195255.0</td>\n",
       "    </tr>\n",
       "    <tr>\n",
       "      <th>2</th>\n",
       "      <td>ITCD</td>\n",
       "      <td>1</td>\n",
       "      <td>0</td>\n",
       "      <td>1</td>\n",
       "      <td>94721.0</td>\n",
       "    </tr>\n",
       "    <tr>\n",
       "      <th>3</th>\n",
       "      <td>ITCD</td>\n",
       "      <td>2</td>\n",
       "      <td>0</td>\n",
       "      <td>1</td>\n",
       "      <td>89834.0</td>\n",
       "    </tr>\n",
       "    <tr>\n",
       "      <th>4</th>\n",
       "      <td>ITC</td>\n",
       "      <td>1</td>\n",
       "      <td>0</td>\n",
       "      <td>1</td>\n",
       "      <td>53931.0</td>\n",
       "    </tr>\n",
       "  </tbody>\n",
       "</table>\n",
       "</div>"
      ],
      "text/plain": [
       "  ITTER107  SEXISTAT1  Age  STATCIV2     Value\n",
       "0       IT          1    0         1  205371.0\n",
       "1       IT          2    0         1  195255.0\n",
       "2     ITCD          1    0         1   94721.0\n",
       "3     ITCD          2    0         1   89834.0\n",
       "4      ITC          1    0         1   53931.0"
      ]
     },
     "execution_count": 20,
     "metadata": {},
     "output_type": "execute_result"
    }
   ],
   "source": [
    "italy = pd.read_parquet(processed / 'chunk.parquet.gzip')\n",
    "italy.head()"
   ]
  },
  {
   "cell_type": "code",
   "execution_count": 27,
   "metadata": {},
   "outputs": [
    {
     "data": {
      "text/html": [
       "<div>\n",
       "<style scoped>\n",
       "    .dataframe tbody tr th:only-of-type {\n",
       "        vertical-align: middle;\n",
       "    }\n",
       "\n",
       "    .dataframe tbody tr th {\n",
       "        vertical-align: top;\n",
       "    }\n",
       "\n",
       "    .dataframe thead th {\n",
       "        text-align: right;\n",
       "    }\n",
       "</style>\n",
       "<table border=\"1\" class=\"dataframe\">\n",
       "  <thead>\n",
       "    <tr style=\"text-align: right;\">\n",
       "      <th></th>\n",
       "      <th>ITTER107</th>\n",
       "      <th>SEXISTAT1</th>\n",
       "      <th>Age</th>\n",
       "      <th>STATCIV2</th>\n",
       "      <th>Value</th>\n",
       "    </tr>\n",
       "  </thead>\n",
       "  <tbody>\n",
       "    <tr>\n",
       "      <th>0</th>\n",
       "      <td>IT</td>\n",
       "      <td>1</td>\n",
       "      <td>0</td>\n",
       "      <td>1</td>\n",
       "      <td>205371.0</td>\n",
       "    </tr>\n",
       "    <tr>\n",
       "      <th>1</th>\n",
       "      <td>IT</td>\n",
       "      <td>2</td>\n",
       "      <td>0</td>\n",
       "      <td>1</td>\n",
       "      <td>195255.0</td>\n",
       "    </tr>\n",
       "    <tr>\n",
       "      <th>2</th>\n",
       "      <td>ITCD</td>\n",
       "      <td>1</td>\n",
       "      <td>0</td>\n",
       "      <td>1</td>\n",
       "      <td>94721.0</td>\n",
       "    </tr>\n",
       "    <tr>\n",
       "      <th>3</th>\n",
       "      <td>ITCD</td>\n",
       "      <td>2</td>\n",
       "      <td>0</td>\n",
       "      <td>1</td>\n",
       "      <td>89834.0</td>\n",
       "    </tr>\n",
       "    <tr>\n",
       "      <th>4</th>\n",
       "      <td>ITC</td>\n",
       "      <td>1</td>\n",
       "      <td>0</td>\n",
       "      <td>1</td>\n",
       "      <td>53931.0</td>\n",
       "    </tr>\n",
       "    <tr>\n",
       "      <th>5</th>\n",
       "      <td>ITC</td>\n",
       "      <td>2</td>\n",
       "      <td>0</td>\n",
       "      <td>1</td>\n",
       "      <td>51223.0</td>\n",
       "    </tr>\n",
       "    <tr>\n",
       "      <th>6</th>\n",
       "      <td>ITC1</td>\n",
       "      <td>1</td>\n",
       "      <td>0</td>\n",
       "      <td>1</td>\n",
       "      <td>13729.0</td>\n",
       "    </tr>\n",
       "    <tr>\n",
       "      <th>7</th>\n",
       "      <td>ITC1</td>\n",
       "      <td>2</td>\n",
       "      <td>0</td>\n",
       "      <td>1</td>\n",
       "      <td>13029.0</td>\n",
       "    </tr>\n",
       "    <tr>\n",
       "      <th>8</th>\n",
       "      <td>ITC11</td>\n",
       "      <td>1</td>\n",
       "      <td>0</td>\n",
       "      <td>1</td>\n",
       "      <td>7188.0</td>\n",
       "    </tr>\n",
       "    <tr>\n",
       "      <th>9</th>\n",
       "      <td>ITC11</td>\n",
       "      <td>2</td>\n",
       "      <td>0</td>\n",
       "      <td>1</td>\n",
       "      <td>6794.0</td>\n",
       "    </tr>\n",
       "    <tr>\n",
       "      <th>10</th>\n",
       "      <td>ITC12</td>\n",
       "      <td>1</td>\n",
       "      <td>0</td>\n",
       "      <td>1</td>\n",
       "      <td>515.0</td>\n",
       "    </tr>\n",
       "    <tr>\n",
       "      <th>11</th>\n",
       "      <td>ITC12</td>\n",
       "      <td>2</td>\n",
       "      <td>0</td>\n",
       "      <td>1</td>\n",
       "      <td>487.0</td>\n",
       "    </tr>\n",
       "    <tr>\n",
       "      <th>12</th>\n",
       "      <td>ITC13</td>\n",
       "      <td>1</td>\n",
       "      <td>0</td>\n",
       "      <td>1</td>\n",
       "      <td>424.0</td>\n",
       "    </tr>\n",
       "    <tr>\n",
       "      <th>13</th>\n",
       "      <td>ITC13</td>\n",
       "      <td>2</td>\n",
       "      <td>0</td>\n",
       "      <td>1</td>\n",
       "      <td>455.0</td>\n",
       "    </tr>\n",
       "    <tr>\n",
       "      <th>14</th>\n",
       "      <td>ITC14</td>\n",
       "      <td>1</td>\n",
       "      <td>0</td>\n",
       "      <td>1</td>\n",
       "      <td>458.0</td>\n",
       "    </tr>\n",
       "    <tr>\n",
       "      <th>15</th>\n",
       "      <td>ITC14</td>\n",
       "      <td>2</td>\n",
       "      <td>0</td>\n",
       "      <td>1</td>\n",
       "      <td>418.0</td>\n",
       "    </tr>\n",
       "    <tr>\n",
       "      <th>16</th>\n",
       "      <td>ITC15</td>\n",
       "      <td>1</td>\n",
       "      <td>0</td>\n",
       "      <td>1</td>\n",
       "      <td>1229.0</td>\n",
       "    </tr>\n",
       "    <tr>\n",
       "      <th>17</th>\n",
       "      <td>ITC15</td>\n",
       "      <td>2</td>\n",
       "      <td>0</td>\n",
       "      <td>1</td>\n",
       "      <td>1134.0</td>\n",
       "    </tr>\n",
       "    <tr>\n",
       "      <th>18</th>\n",
       "      <td>ITC16</td>\n",
       "      <td>1</td>\n",
       "      <td>0</td>\n",
       "      <td>1</td>\n",
       "      <td>2134.0</td>\n",
       "    </tr>\n",
       "    <tr>\n",
       "      <th>19</th>\n",
       "      <td>ITC16</td>\n",
       "      <td>2</td>\n",
       "      <td>0</td>\n",
       "      <td>1</td>\n",
       "      <td>2113.0</td>\n",
       "    </tr>\n",
       "  </tbody>\n",
       "</table>\n",
       "</div>"
      ],
      "text/plain": [
       "   ITTER107  SEXISTAT1  Age  STATCIV2     Value\n",
       "0        IT          1    0         1  205371.0\n",
       "1        IT          2    0         1  195255.0\n",
       "2      ITCD          1    0         1   94721.0\n",
       "3      ITCD          2    0         1   89834.0\n",
       "4       ITC          1    0         1   53931.0\n",
       "5       ITC          2    0         1   51223.0\n",
       "6      ITC1          1    0         1   13729.0\n",
       "7      ITC1          2    0         1   13029.0\n",
       "8     ITC11          1    0         1    7188.0\n",
       "9     ITC11          2    0         1    6794.0\n",
       "10    ITC12          1    0         1     515.0\n",
       "11    ITC12          2    0         1     487.0\n",
       "12    ITC13          1    0         1     424.0\n",
       "13    ITC13          2    0         1     455.0\n",
       "14    ITC14          1    0         1     458.0\n",
       "15    ITC14          2    0         1     418.0\n",
       "16    ITC15          1    0         1    1229.0\n",
       "17    ITC15          2    0         1    1134.0\n",
       "18    ITC16          1    0         1    2134.0\n",
       "19    ITC16          2    0         1    2113.0"
      ]
     },
     "execution_count": 27,
     "metadata": {},
     "output_type": "execute_result"
    }
   ],
   "source": [
    "italy.head(20)"
   ]
  },
  {
   "cell_type": "code",
   "execution_count": 28,
   "metadata": {},
   "outputs": [
    {
     "data": {
      "text/html": [
       "<div>\n",
       "<style scoped>\n",
       "    .dataframe tbody tr th:only-of-type {\n",
       "        vertical-align: middle;\n",
       "    }\n",
       "\n",
       "    .dataframe tbody tr th {\n",
       "        vertical-align: top;\n",
       "    }\n",
       "\n",
       "    .dataframe thead th {\n",
       "        text-align: right;\n",
       "    }\n",
       "</style>\n",
       "<table border=\"1\" class=\"dataframe\">\n",
       "  <thead>\n",
       "    <tr style=\"text-align: right;\">\n",
       "      <th></th>\n",
       "      <th>ITTER107</th>\n",
       "      <th>SEXISTAT1</th>\n",
       "      <th>Age</th>\n",
       "      <th>STATCIV2</th>\n",
       "      <th>Value</th>\n",
       "    </tr>\n",
       "  </thead>\n",
       "  <tbody>\n",
       "    <tr>\n",
       "      <th>0</th>\n",
       "      <td>IT</td>\n",
       "      <td>1</td>\n",
       "      <td>0</td>\n",
       "      <td>1</td>\n",
       "      <td>205371.0</td>\n",
       "    </tr>\n",
       "    <tr>\n",
       "      <th>1</th>\n",
       "      <td>IT</td>\n",
       "      <td>2</td>\n",
       "      <td>0</td>\n",
       "      <td>1</td>\n",
       "      <td>195255.0</td>\n",
       "    </tr>\n",
       "    <tr>\n",
       "      <th>11929</th>\n",
       "      <td>IT</td>\n",
       "      <td>1</td>\n",
       "      <td>1</td>\n",
       "      <td>1</td>\n",
       "      <td>209824.0</td>\n",
       "    </tr>\n",
       "    <tr>\n",
       "      <th>14827</th>\n",
       "      <td>IT</td>\n",
       "      <td>2</td>\n",
       "      <td>1</td>\n",
       "      <td>1</td>\n",
       "      <td>197810.0</td>\n",
       "    </tr>\n",
       "    <tr>\n",
       "      <th>27813</th>\n",
       "      <td>IT</td>\n",
       "      <td>1</td>\n",
       "      <td>2</td>\n",
       "      <td>1</td>\n",
       "      <td>217987.0</td>\n",
       "    </tr>\n",
       "  </tbody>\n",
       "</table>\n",
       "</div>"
      ],
      "text/plain": [
       "      ITTER107  SEXISTAT1  Age  STATCIV2     Value\n",
       "0           IT          1    0         1  205371.0\n",
       "1           IT          2    0         1  195255.0\n",
       "11929       IT          1    1         1  209824.0\n",
       "14827       IT          2    1         1  197810.0\n",
       "27813       IT          1    2         1  217987.0"
      ]
     },
     "execution_count": 28,
     "metadata": {},
     "output_type": "execute_result"
    }
   ],
   "source": [
    "pp = italy[italy['ITTER107'] == 'IT']"
   ]
  },
  {
   "cell_type": "code",
   "execution_count": 29,
   "metadata": {},
   "outputs": [
    {
     "data": {
      "text/plain": [
       "(1210, 5)"
      ]
     },
     "execution_count": 29,
     "metadata": {},
     "output_type": "execute_result"
    }
   ],
   "source": [
    "pp.shape"
   ]
  },
  {
   "cell_type": "code",
   "execution_count": 30,
   "metadata": {},
   "outputs": [
    {
     "data": {
      "text/plain": [
       "ITTER107     ITITITITITITITITITITITITITITITITITITITITITITIT...\n",
       "SEXISTAT1                                                 1815\n",
       "Age                                                      69062\n",
       "STATCIV2                                                  9700\n",
       "Value                                               59030133.0\n",
       "dtype: object"
      ]
     },
     "execution_count": 30,
     "metadata": {},
     "output_type": "execute_result"
    }
   ],
   "source": [
    "pp.sum()"
   ]
  },
  {
   "cell_type": "code",
   "execution_count": 21,
   "metadata": {},
   "outputs": [
    {
     "data": {
      "text/plain": [
       "array([  0,   1,   2,   3,   4,   5,   6,   7,   8,   9,  10,  11,  12,\n",
       "        13,  14,  15,  16,  17,  18,  19,  20,  21,  22,  23,  24,  25,\n",
       "        26,  27,  28,  29,  30,  31,  32,  33,  34,  35,  36,  37,  38,\n",
       "        39,  40,  41,  42,  43,  44,  45,  46,  47,  48,  49,  50,  51,\n",
       "        52,  53,  54,  55,  56,  57,  58,  59,  60,  61,  62,  63,  64,\n",
       "        65,  66,  67,  68,  69,  70,  71,  72,  73,  74,  75,  76,  77,\n",
       "        78,  79,  80,  81,  82,  83,  84,  85,  86,  87,  88,  89,  90,\n",
       "        91,  92,  93,  94,  95,  96,  97,  98,  99, 100])"
      ]
     },
     "execution_count": 21,
     "metadata": {},
     "output_type": "execute_result"
    }
   ],
   "source": [
    "italy['Age'].unique()"
   ]
  },
  {
   "cell_type": "code",
   "execution_count": 22,
   "metadata": {},
   "outputs": [
    {
     "data": {
      "text/plain": [
       "(9729610, 5)"
      ]
     },
     "execution_count": 22,
     "metadata": {},
     "output_type": "execute_result"
    }
   ],
   "source": [
    "italy.shape"
   ]
  },
  {
   "cell_type": "code",
   "execution_count": 23,
   "metadata": {},
   "outputs": [
    {
     "name": "stdout",
     "output_type": "stream",
     "text": [
      "<class 'pandas.core.frame.DataFrame'>\n",
      "RangeIndex: 9729610 entries, 0 to 9729609\n",
      "Data columns (total 5 columns):\n",
      " #   Column     Dtype  \n",
      "---  ------     -----  \n",
      " 0   ITTER107   object \n",
      " 1   SEXISTAT1  int64  \n",
      " 2   Age        int64  \n",
      " 3   STATCIV2   int64  \n",
      " 4   Value      float64\n",
      "dtypes: float64(1), int64(3), object(1)\n",
      "memory usage: 371.2+ MB\n"
     ]
    }
   ],
   "source": [
    "italy.info()"
   ]
  },
  {
   "cell_type": "code",
   "execution_count": 24,
   "metadata": {},
   "outputs": [
    {
     "data": {
      "text/html": [
       "<div>\n",
       "<style scoped>\n",
       "    .dataframe tbody tr th:only-of-type {\n",
       "        vertical-align: middle;\n",
       "    }\n",
       "\n",
       "    .dataframe tbody tr th {\n",
       "        vertical-align: top;\n",
       "    }\n",
       "\n",
       "    .dataframe thead th {\n",
       "        text-align: right;\n",
       "    }\n",
       "</style>\n",
       "<table border=\"1\" class=\"dataframe\">\n",
       "  <thead>\n",
       "    <tr style=\"text-align: right;\">\n",
       "      <th></th>\n",
       "      <th>ITTER107</th>\n",
       "      <th>Territory</th>\n",
       "    </tr>\n",
       "  </thead>\n",
       "  <tbody>\n",
       "    <tr>\n",
       "      <th>0</th>\n",
       "      <td>IT</td>\n",
       "      <td>Italy</td>\n",
       "    </tr>\n",
       "    <tr>\n",
       "      <th>2</th>\n",
       "      <td>ITCD</td>\n",
       "      <td>Nord</td>\n",
       "    </tr>\n",
       "    <tr>\n",
       "      <th>4</th>\n",
       "      <td>ITC</td>\n",
       "      <td>Nord-ovest</td>\n",
       "    </tr>\n",
       "    <tr>\n",
       "      <th>6</th>\n",
       "      <td>ITC1</td>\n",
       "      <td>Piemonte</td>\n",
       "    </tr>\n",
       "    <tr>\n",
       "      <th>8</th>\n",
       "      <td>ITC11</td>\n",
       "      <td>Torino</td>\n",
       "    </tr>\n",
       "    <tr>\n",
       "      <th>10</th>\n",
       "      <td>ITC12</td>\n",
       "      <td>Vercelli</td>\n",
       "    </tr>\n",
       "    <tr>\n",
       "      <th>12</th>\n",
       "      <td>ITC13</td>\n",
       "      <td>Biella</td>\n",
       "    </tr>\n",
       "    <tr>\n",
       "      <th>14</th>\n",
       "      <td>ITC14</td>\n",
       "      <td>Verbano-Cusio-Ossola</td>\n",
       "    </tr>\n",
       "    <tr>\n",
       "      <th>16</th>\n",
       "      <td>ITC15</td>\n",
       "      <td>Novara</td>\n",
       "    </tr>\n",
       "    <tr>\n",
       "      <th>18</th>\n",
       "      <td>ITC16</td>\n",
       "      <td>Cuneo</td>\n",
       "    </tr>\n",
       "  </tbody>\n",
       "</table>\n",
       "</div>"
      ],
      "text/plain": [
       "   ITTER107             Territory\n",
       "0        IT                 Italy\n",
       "2      ITCD                  Nord\n",
       "4       ITC            Nord-ovest\n",
       "6      ITC1              Piemonte\n",
       "8     ITC11                Torino\n",
       "10    ITC12              Vercelli\n",
       "12    ITC13                Biella\n",
       "14    ITC14  Verbano-Cusio-Ossola\n",
       "16    ITC15                Novara\n",
       "18    ITC16                 Cuneo"
      ]
     },
     "execution_count": 24,
     "metadata": {},
     "output_type": "execute_result"
    }
   ],
   "source": [
    "ter = pd.read_parquet(processed / 'ter.parquet.gzip')\n",
    "ter.head(10)"
   ]
  },
  {
   "cell_type": "code",
   "execution_count": 25,
   "metadata": {},
   "outputs": [
    {
     "data": {
      "text/html": [
       "<div>\n",
       "<style scoped>\n",
       "    .dataframe tbody tr th:only-of-type {\n",
       "        vertical-align: middle;\n",
       "    }\n",
       "\n",
       "    .dataframe tbody tr th {\n",
       "        vertical-align: top;\n",
       "    }\n",
       "\n",
       "    .dataframe thead th {\n",
       "        text-align: right;\n",
       "    }\n",
       "</style>\n",
       "<table border=\"1\" class=\"dataframe\">\n",
       "  <thead>\n",
       "    <tr style=\"text-align: right;\">\n",
       "      <th></th>\n",
       "      <th>ITTER107</th>\n",
       "      <th>Territory</th>\n",
       "    </tr>\n",
       "  </thead>\n",
       "  <tbody>\n",
       "    <tr>\n",
       "      <th>18</th>\n",
       "      <td>ITC16</td>\n",
       "      <td>Cuneo</td>\n",
       "    </tr>\n",
       "    <tr>\n",
       "      <th>278</th>\n",
       "      <td>004078</td>\n",
       "      <td>Cuneo</td>\n",
       "    </tr>\n",
       "    <tr>\n",
       "      <th>1445399</th>\n",
       "      <td>4078</td>\n",
       "      <td>Cuneo</td>\n",
       "    </tr>\n",
       "  </tbody>\n",
       "</table>\n",
       "</div>"
      ],
      "text/plain": [
       "        ITTER107 Territory\n",
       "18         ITC16     Cuneo\n",
       "278       004078     Cuneo\n",
       "1445399     4078     Cuneo"
      ]
     },
     "execution_count": 25,
     "metadata": {},
     "output_type": "execute_result"
    }
   ],
   "source": [
    "ter[ter['Territory'] == 'Cuneo']"
   ]
  },
  {
   "cell_type": "code",
   "execution_count": 26,
   "metadata": {},
   "outputs": [
    {
     "data": {
      "text/plain": [
       "(15421, 2)"
      ]
     },
     "execution_count": 26,
     "metadata": {},
     "output_type": "execute_result"
    }
   ],
   "source": [
    "ter.shape"
   ]
  },
  {
   "cell_type": "code",
   "execution_count": 15,
   "metadata": {},
   "outputs": [],
   "source": [
    "# kk = italy[italy['Territory'] == 'Aprica']\n",
    "# # kk = kk.sort_values(by=['Age','Gender'], ascending=True)\n",
    "# kk.head(10)"
   ]
  },
  {
   "cell_type": "code",
   "execution_count": 16,
   "metadata": {},
   "outputs": [],
   "source": [
    "# start = time.time()\n",
    "# df = pl.read_csv(file_path).lazy().filter(\n",
    "#          (pl.col('TIME') == 2022) & \n",
    "#          (pl.col('SEXISTAT1') != 9) &\n",
    "#          (pl.col('STATCIV2') != 99)).collect()\n",
    "# end = time.time()\n",
    "# print(end - start)\n",
    "# display(df)"
   ]
  },
  {
   "cell_type": "code",
   "execution_count": 17,
   "metadata": {},
   "outputs": [],
   "source": [
    "# geo = gpd.read_file(raw / \"Limiti01012023_g/Com01012023_g/Com01012023_g_WGS84.shp\")\n",
    "# geo.geometry = geo.geometry.to_crs(epsg = 4326)\n",
    "# # geo = geo.loc[:,['geometry','COD_CM','COMUNE']]\n",
    "# geo.head()"
   ]
  },
  {
   "cell_type": "code",
   "execution_count": 18,
   "metadata": {},
   "outputs": [],
   "source": [
    "# geo[geo['PRO_COM_T'] == '014004']"
   ]
  },
  {
   "attachments": {},
   "cell_type": "markdown",
   "metadata": {},
   "source": [
    "SEXISTAT1\n",
    "\n",
    "1- Male   <br>\n",
    "2- Female <br>\n",
    "9- Total  <br>\n",
    "\n",
    "STATCIV2\n",
    "1- never married <br>\n",
    "2- married       <br>\n",
    "3- divorced      <br>\n",
    "4- widowed       <br>\n",
    "99- total        <br>\n",
    "\n",
    "columns of italy <br>\n",
    "Index(['ITTER107', 'Territory', 'TIPO_DATO15', 'Demographic data type',\n",
    "       'SEXISTAT1', 'Gender', 'ETA1', 'Age', 'STATCIV2', 'Marital status',\n",
    "       'TIME', 'Select time', 'Value', 'Flag Codes', 'Flags'],\n",
    "      dtype='object')"
   ]
  },
  {
   "cell_type": "code",
   "execution_count": 19,
   "metadata": {},
   "outputs": [
    {
     "name": "stdout",
     "output_type": "stream",
     "text": [
      "Ok_\n"
     ]
    }
   ],
   "source": [
    "print('Ok_')"
   ]
  }
 ],
 "metadata": {
  "kernelspec": {
   "display_name": "Python 3",
   "language": "python",
   "name": "python3"
  },
  "language_info": {
   "codemirror_mode": {
    "name": "ipython",
    "version": 3
   },
   "file_extension": ".py",
   "mimetype": "text/x-python",
   "name": "python",
   "nbconvert_exporter": "python",
   "pygments_lexer": "ipython3",
   "version": "3.11.4"
  },
  "orig_nbformat": 4
 },
 "nbformat": 4,
 "nbformat_minor": 2
}
