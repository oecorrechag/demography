{
 "cells": [
  {
   "cell_type": "code",
   "execution_count": 1,
   "metadata": {},
   "outputs": [],
   "source": [
    "%load_ext autoreload\n",
    "%autoreload 2"
   ]
  },
  {
   "cell_type": "code",
   "execution_count": 2,
   "metadata": {},
   "outputs": [],
   "source": [
    "import pandas as pd\n",
    "import geopandas as gpd \n",
    "import numpy as np\n",
    "\n",
    "import matplotlib.pyplot as plt\n",
    "import plotly.express as px\n",
    "\n",
    "pd.set_option('display.max_columns', None)\n",
    "pd.set_option('display.max_rows', None)\n",
    "import warnings\n",
    "warnings.filterwarnings(\"ignore\")"
   ]
  },
  {
   "cell_type": "code",
   "execution_count": 3,
   "metadata": {},
   "outputs": [],
   "source": [
    "import sys\n",
    "sys.path.append(\"../\") \n",
    "\n",
    "from utils.paths import make_dir_line\n",
    "\n",
    "modality = 'u'\n",
    "project = 'Ciencia de los datos'\n",
    "data = make_dir_line(modality, project)\n",
    "\n",
    "raw = data('raw')\n",
    "processed = data('processed')"
   ]
  },
  {
   "cell_type": "markdown",
   "metadata": {},
   "source": [
    "# Por RIP - Localidades\n",
    "\n",
    "Son 5 localidades"
   ]
  },
  {
   "cell_type": "code",
   "execution_count": 4,
   "metadata": {},
   "outputs": [
    {
     "name": "stdout",
     "output_type": "stream",
     "text": [
      "Lista de verificacion:  ['Nord-Ovest' 'Nord-Est' 'Centro' 'Sud' 'Isole']\n"
     ]
    },
    {
     "data": {
      "text/html": [
       "<div>\n",
       "<style scoped>\n",
       "    .dataframe tbody tr th:only-of-type {\n",
       "        vertical-align: middle;\n",
       "    }\n",
       "\n",
       "    .dataframe tbody tr th {\n",
       "        vertical-align: top;\n",
       "    }\n",
       "\n",
       "    .dataframe thead th {\n",
       "        text-align: right;\n",
       "    }\n",
       "</style>\n",
       "<table border=\"1\" class=\"dataframe\">\n",
       "  <thead>\n",
       "    <tr style=\"text-align: right;\">\n",
       "      <th></th>\n",
       "      <th>COD_RIP</th>\n",
       "      <th>DEN_RIP</th>\n",
       "    </tr>\n",
       "  </thead>\n",
       "  <tbody>\n",
       "    <tr>\n",
       "      <th>0</th>\n",
       "      <td>1</td>\n",
       "      <td>Nord-Ovest</td>\n",
       "    </tr>\n",
       "    <tr>\n",
       "      <th>1</th>\n",
       "      <td>2</td>\n",
       "      <td>Nord-Est</td>\n",
       "    </tr>\n",
       "    <tr>\n",
       "      <th>2</th>\n",
       "      <td>3</td>\n",
       "      <td>Centro</td>\n",
       "    </tr>\n",
       "    <tr>\n",
       "      <th>3</th>\n",
       "      <td>4</td>\n",
       "      <td>Sud</td>\n",
       "    </tr>\n",
       "    <tr>\n",
       "      <th>4</th>\n",
       "      <td>5</td>\n",
       "      <td>Isole</td>\n",
       "    </tr>\n",
       "  </tbody>\n",
       "</table>\n",
       "</div>"
      ],
      "text/plain": [
       "   COD_RIP     DEN_RIP\n",
       "0        1  Nord-Ovest\n",
       "1        2    Nord-Est\n",
       "2        3      Centro\n",
       "3        4         Sud\n",
       "4        5       Isole"
      ]
     },
     "execution_count": 4,
     "metadata": {},
     "output_type": "execute_result"
    }
   ],
   "source": [
    "geo = gpd.read_file(raw / \"Limiti01012023_g/RipGeo01012023_g/RipGeo01012023_g_WGS84.shp\")\n",
    "geo.geometry = geo.geometry.to_crs(epsg = 4326)\n",
    "geo = geo.loc[:,['COD_RIP','DEN_RIP']]\n",
    "\n",
    "lista_verificacion = geo['DEN_RIP'].unique()\n",
    "print('Lista de verificacion: ', lista_verificacion)\n",
    "\n",
    "geo.head()"
   ]
  },
  {
   "cell_type": "code",
   "execution_count": 5,
   "metadata": {},
   "outputs": [
    {
     "data": {
      "text/html": [
       "<div>\n",
       "<style scoped>\n",
       "    .dataframe tbody tr th:only-of-type {\n",
       "        vertical-align: middle;\n",
       "    }\n",
       "\n",
       "    .dataframe tbody tr th {\n",
       "        vertical-align: top;\n",
       "    }\n",
       "\n",
       "    .dataframe thead th {\n",
       "        text-align: right;\n",
       "    }\n",
       "</style>\n",
       "<table border=\"1\" class=\"dataframe\">\n",
       "  <thead>\n",
       "    <tr style=\"text-align: right;\">\n",
       "      <th></th>\n",
       "      <th>ITTER107</th>\n",
       "      <th>DEN_RIP</th>\n",
       "    </tr>\n",
       "  </thead>\n",
       "  <tbody>\n",
       "    <tr>\n",
       "      <th>4</th>\n",
       "      <td>ITC</td>\n",
       "      <td>Nord-Ovest</td>\n",
       "    </tr>\n",
       "    <tr>\n",
       "      <th>62</th>\n",
       "      <td>ITD</td>\n",
       "      <td>Nord-Est</td>\n",
       "    </tr>\n",
       "    <tr>\n",
       "      <th>120</th>\n",
       "      <td>ITE</td>\n",
       "      <td>Centro</td>\n",
       "    </tr>\n",
       "    <tr>\n",
       "      <th>174</th>\n",
       "      <td>ITF</td>\n",
       "      <td>Sud</td>\n",
       "    </tr>\n",
       "    <tr>\n",
       "      <th>234</th>\n",
       "      <td>ITG</td>\n",
       "      <td>Isole</td>\n",
       "    </tr>\n",
       "  </tbody>\n",
       "</table>\n",
       "</div>"
      ],
      "text/plain": [
       "    ITTER107     DEN_RIP\n",
       "4        ITC  Nord-Ovest\n",
       "62       ITD    Nord-Est\n",
       "120      ITE      Centro\n",
       "174      ITF         Sud\n",
       "234      ITG       Isole"
      ]
     },
     "execution_count": 5,
     "metadata": {},
     "output_type": "execute_result"
    }
   ],
   "source": [
    "ter = pd.read_parquet(processed / 'ter2.parquet.gzip')\n",
    "ter.rename(columns={'Territory':'DEN_RIP'}, inplace=True)\n",
    "ter = ter[ter['DEN_RIP'].isin(lista_verificacion)]\n",
    "ter.head()"
   ]
  },
  {
   "cell_type": "code",
   "execution_count": 6,
   "metadata": {},
   "outputs": [
    {
     "name": "stdout",
     "output_type": "stream",
     "text": [
      "(5, 2) (5, 2) (5, 3)\n"
     ]
    },
    {
     "data": {
      "text/html": [
       "<div>\n",
       "<style scoped>\n",
       "    .dataframe tbody tr th:only-of-type {\n",
       "        vertical-align: middle;\n",
       "    }\n",
       "\n",
       "    .dataframe tbody tr th {\n",
       "        vertical-align: top;\n",
       "    }\n",
       "\n",
       "    .dataframe thead th {\n",
       "        text-align: right;\n",
       "    }\n",
       "</style>\n",
       "<table border=\"1\" class=\"dataframe\">\n",
       "  <thead>\n",
       "    <tr style=\"text-align: right;\">\n",
       "      <th></th>\n",
       "      <th>ITTER107</th>\n",
       "      <th>DEN_RIP</th>\n",
       "      <th>COD_RIP</th>\n",
       "    </tr>\n",
       "  </thead>\n",
       "  <tbody>\n",
       "    <tr>\n",
       "      <th>0</th>\n",
       "      <td>ITC</td>\n",
       "      <td>Nord-Ovest</td>\n",
       "      <td>1</td>\n",
       "    </tr>\n",
       "    <tr>\n",
       "      <th>1</th>\n",
       "      <td>ITD</td>\n",
       "      <td>Nord-Est</td>\n",
       "      <td>2</td>\n",
       "    </tr>\n",
       "    <tr>\n",
       "      <th>2</th>\n",
       "      <td>ITE</td>\n",
       "      <td>Centro</td>\n",
       "      <td>3</td>\n",
       "    </tr>\n",
       "    <tr>\n",
       "      <th>3</th>\n",
       "      <td>ITF</td>\n",
       "      <td>Sud</td>\n",
       "      <td>4</td>\n",
       "    </tr>\n",
       "    <tr>\n",
       "      <th>4</th>\n",
       "      <td>ITG</td>\n",
       "      <td>Isole</td>\n",
       "      <td>5</td>\n",
       "    </tr>\n",
       "  </tbody>\n",
       "</table>\n",
       "</div>"
      ],
      "text/plain": [
       "  ITTER107     DEN_RIP  COD_RIP\n",
       "0      ITC  Nord-Ovest        1\n",
       "1      ITD    Nord-Est        2\n",
       "2      ITE      Centro        3\n",
       "3      ITF         Sud        4\n",
       "4      ITG       Isole        5"
      ]
     },
     "execution_count": 6,
     "metadata": {},
     "output_type": "execute_result"
    }
   ],
   "source": [
    "df_aux = pd.merge(ter, geo, on=['DEN_RIP'])\n",
    "print(ter.shape, geo.shape, df_aux.shape)\n",
    "df_aux"
   ]
  },
  {
   "cell_type": "code",
   "execution_count": 7,
   "metadata": {},
   "outputs": [],
   "source": [
    "df_aux.to_parquet(processed / 'g1.parquet.gzip', compression='gzip')"
   ]
  },
  {
   "cell_type": "markdown",
   "metadata": {},
   "source": [
    "# Por REG - Regiones\n",
    "\n",
    "Son 20 regiones"
   ]
  },
  {
   "cell_type": "code",
   "execution_count": 8,
   "metadata": {},
   "outputs": [
    {
     "name": "stdout",
     "output_type": "stream",
     "text": [
      "Lista de verificacion:  ['Piemonte' \"Valle d'Aosta\" 'Lombardia' 'Trentino-Alto Adige' 'Veneto'\n",
      " 'Friuli Venezia Giulia' 'Liguria' 'Emilia-Romagna' 'Toscana' 'Umbria'\n",
      " 'Marche' 'Lazio' 'Abruzzo' 'Molise' 'Campania' 'Puglia' 'Basilicata'\n",
      " 'Calabria' 'Sicilia' 'Sardegna']\n"
     ]
    },
    {
     "data": {
      "text/html": [
       "<div>\n",
       "<style scoped>\n",
       "    .dataframe tbody tr th:only-of-type {\n",
       "        vertical-align: middle;\n",
       "    }\n",
       "\n",
       "    .dataframe tbody tr th {\n",
       "        vertical-align: top;\n",
       "    }\n",
       "\n",
       "    .dataframe thead th {\n",
       "        text-align: right;\n",
       "    }\n",
       "</style>\n",
       "<table border=\"1\" class=\"dataframe\">\n",
       "  <thead>\n",
       "    <tr style=\"text-align: right;\">\n",
       "      <th></th>\n",
       "      <th>COD_REG</th>\n",
       "      <th>DEN_REG</th>\n",
       "    </tr>\n",
       "  </thead>\n",
       "  <tbody>\n",
       "    <tr>\n",
       "      <th>0</th>\n",
       "      <td>1</td>\n",
       "      <td>Piemonte</td>\n",
       "    </tr>\n",
       "    <tr>\n",
       "      <th>1</th>\n",
       "      <td>2</td>\n",
       "      <td>Valle d'Aosta</td>\n",
       "    </tr>\n",
       "    <tr>\n",
       "      <th>2</th>\n",
       "      <td>3</td>\n",
       "      <td>Lombardia</td>\n",
       "    </tr>\n",
       "    <tr>\n",
       "      <th>3</th>\n",
       "      <td>4</td>\n",
       "      <td>Trentino-Alto Adige</td>\n",
       "    </tr>\n",
       "    <tr>\n",
       "      <th>4</th>\n",
       "      <td>5</td>\n",
       "      <td>Veneto</td>\n",
       "    </tr>\n",
       "  </tbody>\n",
       "</table>\n",
       "</div>"
      ],
      "text/plain": [
       "   COD_REG              DEN_REG\n",
       "0        1             Piemonte\n",
       "1        2        Valle d'Aosta\n",
       "2        3            Lombardia\n",
       "3        4  Trentino-Alto Adige\n",
       "4        5               Veneto"
      ]
     },
     "execution_count": 8,
     "metadata": {},
     "output_type": "execute_result"
    }
   ],
   "source": [
    "geo = gpd.read_file(raw / \"Limiti01012023_g/Reg01012023_g/Reg01012023_g_WGS84.shp\")\n",
    "geo.geometry = geo.geometry.to_crs(epsg = 4326)\n",
    "geo = geo.loc[:,['COD_REG','DEN_REG']]\n",
    "\n",
    "lista_verificacion = geo['DEN_REG'].unique()\n",
    "print('Lista de verificacion: ', lista_verificacion)\n",
    "\n",
    "geo.head()"
   ]
  },
  {
   "cell_type": "code",
   "execution_count": 9,
   "metadata": {},
   "outputs": [
    {
     "data": {
      "text/html": [
       "<div>\n",
       "<style scoped>\n",
       "    .dataframe tbody tr th:only-of-type {\n",
       "        vertical-align: middle;\n",
       "    }\n",
       "\n",
       "    .dataframe tbody tr th {\n",
       "        vertical-align: top;\n",
       "    }\n",
       "\n",
       "    .dataframe thead th {\n",
       "        text-align: right;\n",
       "    }\n",
       "</style>\n",
       "<table border=\"1\" class=\"dataframe\">\n",
       "  <thead>\n",
       "    <tr style=\"text-align: right;\">\n",
       "      <th></th>\n",
       "      <th>ITTER107</th>\n",
       "      <th>DEN_REG</th>\n",
       "    </tr>\n",
       "  </thead>\n",
       "  <tbody>\n",
       "    <tr>\n",
       "      <th>6</th>\n",
       "      <td>ITC1</td>\n",
       "      <td>Piemonte</td>\n",
       "    </tr>\n",
       "    <tr>\n",
       "      <th>24</th>\n",
       "      <td>ITC2</td>\n",
       "      <td>Valle d'Aosta</td>\n",
       "    </tr>\n",
       "    <tr>\n",
       "      <th>28</th>\n",
       "      <td>ITC3</td>\n",
       "      <td>Liguria</td>\n",
       "    </tr>\n",
       "    <tr>\n",
       "      <th>38</th>\n",
       "      <td>ITC4</td>\n",
       "      <td>Lombardia</td>\n",
       "    </tr>\n",
       "    <tr>\n",
       "      <th>66</th>\n",
       "      <td>ITD1</td>\n",
       "      <td>Provincia Autonoma Bolzano / Bozen</td>\n",
       "    </tr>\n",
       "  </tbody>\n",
       "</table>\n",
       "</div>"
      ],
      "text/plain": [
       "   ITTER107                             DEN_REG\n",
       "6      ITC1                            Piemonte\n",
       "24     ITC2                       Valle d'Aosta\n",
       "28     ITC3                             Liguria\n",
       "38     ITC4                           Lombardia\n",
       "66     ITD1  Provincia Autonoma Bolzano / Bozen"
      ]
     },
     "execution_count": 9,
     "metadata": {},
     "output_type": "execute_result"
    }
   ],
   "source": [
    "ter = pd.read_parquet(processed / 'ter2.parquet.gzip')\n",
    "ter = ter.dropna()\n",
    "ter.rename(columns={'Territory':'DEN_REG'}, inplace=True)\n",
    "\n",
    "patron = r'^IT[C,D,E,F,G][0-9]$'  # Patrón para buscar \"IT\" seguido de una letra entre D y G y un solo dígito\n",
    "ter = ter[ter[\"ITTER107\"].str.match(patron)]\n",
    "\n",
    "ter.head()"
   ]
  },
  {
   "cell_type": "code",
   "execution_count": 10,
   "metadata": {},
   "outputs": [
    {
     "name": "stdout",
     "output_type": "stream",
     "text": [
      "(21, 2) (20, 2) (20, 3)\n"
     ]
    },
    {
     "data": {
      "text/html": [
       "<div>\n",
       "<style scoped>\n",
       "    .dataframe tbody tr th:only-of-type {\n",
       "        vertical-align: middle;\n",
       "    }\n",
       "\n",
       "    .dataframe tbody tr th {\n",
       "        vertical-align: top;\n",
       "    }\n",
       "\n",
       "    .dataframe thead th {\n",
       "        text-align: right;\n",
       "    }\n",
       "</style>\n",
       "<table border=\"1\" class=\"dataframe\">\n",
       "  <thead>\n",
       "    <tr style=\"text-align: right;\">\n",
       "      <th></th>\n",
       "      <th>ITTER107</th>\n",
       "      <th>DEN_REG</th>\n",
       "      <th>COD_REG</th>\n",
       "    </tr>\n",
       "  </thead>\n",
       "  <tbody>\n",
       "    <tr>\n",
       "      <th>0</th>\n",
       "      <td>ITC1</td>\n",
       "      <td>Piemonte</td>\n",
       "      <td>1</td>\n",
       "    </tr>\n",
       "    <tr>\n",
       "      <th>1</th>\n",
       "      <td>ITC2</td>\n",
       "      <td>Valle d'Aosta</td>\n",
       "      <td>2</td>\n",
       "    </tr>\n",
       "    <tr>\n",
       "      <th>3</th>\n",
       "      <td>ITC4</td>\n",
       "      <td>Lombardia</td>\n",
       "      <td>3</td>\n",
       "    </tr>\n",
       "    <tr>\n",
       "      <th>4</th>\n",
       "      <td>ITD2</td>\n",
       "      <td>Trentino-Alto Adige</td>\n",
       "      <td>4</td>\n",
       "    </tr>\n",
       "    <tr>\n",
       "      <th>5</th>\n",
       "      <td>ITD3</td>\n",
       "      <td>Veneto</td>\n",
       "      <td>5</td>\n",
       "    </tr>\n",
       "    <tr>\n",
       "      <th>6</th>\n",
       "      <td>ITD4</td>\n",
       "      <td>Friuli Venezia Giulia</td>\n",
       "      <td>6</td>\n",
       "    </tr>\n",
       "    <tr>\n",
       "      <th>2</th>\n",
       "      <td>ITC3</td>\n",
       "      <td>Liguria</td>\n",
       "      <td>7</td>\n",
       "    </tr>\n",
       "    <tr>\n",
       "      <th>7</th>\n",
       "      <td>ITD5</td>\n",
       "      <td>Emilia-Romagna</td>\n",
       "      <td>8</td>\n",
       "    </tr>\n",
       "    <tr>\n",
       "      <th>8</th>\n",
       "      <td>ITE1</td>\n",
       "      <td>Toscana</td>\n",
       "      <td>9</td>\n",
       "    </tr>\n",
       "    <tr>\n",
       "      <th>9</th>\n",
       "      <td>ITE2</td>\n",
       "      <td>Umbria</td>\n",
       "      <td>10</td>\n",
       "    </tr>\n",
       "    <tr>\n",
       "      <th>10</th>\n",
       "      <td>ITE3</td>\n",
       "      <td>Marche</td>\n",
       "      <td>11</td>\n",
       "    </tr>\n",
       "    <tr>\n",
       "      <th>11</th>\n",
       "      <td>ITE4</td>\n",
       "      <td>Lazio</td>\n",
       "      <td>12</td>\n",
       "    </tr>\n",
       "    <tr>\n",
       "      <th>12</th>\n",
       "      <td>ITF1</td>\n",
       "      <td>Abruzzo</td>\n",
       "      <td>13</td>\n",
       "    </tr>\n",
       "    <tr>\n",
       "      <th>13</th>\n",
       "      <td>ITF2</td>\n",
       "      <td>Molise</td>\n",
       "      <td>14</td>\n",
       "    </tr>\n",
       "    <tr>\n",
       "      <th>14</th>\n",
       "      <td>ITF3</td>\n",
       "      <td>Campania</td>\n",
       "      <td>15</td>\n",
       "    </tr>\n",
       "    <tr>\n",
       "      <th>15</th>\n",
       "      <td>ITF4</td>\n",
       "      <td>Puglia</td>\n",
       "      <td>16</td>\n",
       "    </tr>\n",
       "    <tr>\n",
       "      <th>16</th>\n",
       "      <td>ITF5</td>\n",
       "      <td>Basilicata</td>\n",
       "      <td>17</td>\n",
       "    </tr>\n",
       "    <tr>\n",
       "      <th>17</th>\n",
       "      <td>ITF6</td>\n",
       "      <td>Calabria</td>\n",
       "      <td>18</td>\n",
       "    </tr>\n",
       "    <tr>\n",
       "      <th>18</th>\n",
       "      <td>ITG1</td>\n",
       "      <td>Sicilia</td>\n",
       "      <td>19</td>\n",
       "    </tr>\n",
       "    <tr>\n",
       "      <th>19</th>\n",
       "      <td>ITG2</td>\n",
       "      <td>Sardegna</td>\n",
       "      <td>20</td>\n",
       "    </tr>\n",
       "  </tbody>\n",
       "</table>\n",
       "</div>"
      ],
      "text/plain": [
       "   ITTER107                DEN_REG  COD_REG\n",
       "0      ITC1               Piemonte        1\n",
       "1      ITC2          Valle d'Aosta        2\n",
       "3      ITC4              Lombardia        3\n",
       "4      ITD2    Trentino-Alto Adige        4\n",
       "5      ITD3                 Veneto        5\n",
       "6      ITD4  Friuli Venezia Giulia        6\n",
       "2      ITC3                Liguria        7\n",
       "7      ITD5         Emilia-Romagna        8\n",
       "8      ITE1                Toscana        9\n",
       "9      ITE2                 Umbria       10\n",
       "10     ITE3                 Marche       11\n",
       "11     ITE4                  Lazio       12\n",
       "12     ITF1                Abruzzo       13\n",
       "13     ITF2                 Molise       14\n",
       "14     ITF3               Campania       15\n",
       "15     ITF4                 Puglia       16\n",
       "16     ITF5             Basilicata       17\n",
       "17     ITF6               Calabria       18\n",
       "18     ITG1                Sicilia       19\n",
       "19     ITG2               Sardegna       20"
      ]
     },
     "execution_count": 10,
     "metadata": {},
     "output_type": "execute_result"
    }
   ],
   "source": [
    "df_aux2 = pd.merge(ter, geo, on=['DEN_REG'])\n",
    "df_aux2 = df_aux2.sort_values(by=['COD_REG'], ascending=True)\n",
    "print(ter.shape, geo.shape, df_aux2.shape)\n",
    "df_aux2"
   ]
  },
  {
   "cell_type": "code",
   "execution_count": 11,
   "metadata": {},
   "outputs": [],
   "source": [
    "df_aux2.to_parquet(processed / 'g2.parquet.gzip', compression='gzip')"
   ]
  },
  {
   "cell_type": "markdown",
   "metadata": {},
   "source": [
    "# Por PROV - Provincias\n",
    "\n",
    "Son 93 provincias"
   ]
  },
  {
   "cell_type": "code",
   "execution_count": 12,
   "metadata": {},
   "outputs": [
    {
     "name": "stdout",
     "output_type": "stream",
     "text": [
      "Lista de verificacion:  ['Torino' 'Vercelli' 'Novara' 'Cuneo' 'Asti' 'Alessandria' 'Aosta'\n",
      " 'Imperia' 'Savona' 'Genova' 'La Spezia' 'Varese' 'Como' 'Sondrio'\n",
      " 'Milano' 'Bergamo' 'Brescia' 'Pavia' 'Cremona' 'Mantova' 'Bolzano'\n",
      " 'Trento' 'Verona' 'Vicenza' 'Belluno' 'Treviso' 'Venezia' 'Padova'\n",
      " 'Rovigo' 'Udine' 'Gorizia' 'Trieste' 'Piacenza' 'Parma'\n",
      " \"Reggio nell'Emilia\" 'Modena' 'Bologna' 'Ferrara' 'Ravenna'\n",
      " \"Forli'-Cesena\" 'Pesaro e Urbino' 'Ancona' 'Macerata' 'Ascoli Piceno'\n",
      " 'Massa Carrara' 'Lucca' 'Pistoia' 'Firenze' 'Livorno' 'Pisa' 'Arezzo'\n",
      " 'Siena' 'Grosseto' 'Perugia' 'Terni' 'Viterbo' 'Rieti' 'Roma' 'Latina'\n",
      " 'Frosinone' 'Caserta' 'Benevento' 'Napoli' 'Avellino' 'Salerno'\n",
      " \"L'Aquila\" 'Teramo' 'Pescara' 'Chieti' 'Campobasso' 'Foggia' 'Bari'\n",
      " 'Taranto' 'Brindisi' 'Lecce' 'Potenza' 'Matera' 'Cosenza' 'Catanzaro'\n",
      " 'Reggio di Calabria' 'Trapani' 'Palermo' 'Messina' 'Agrigento'\n",
      " 'Caltanissetta' 'Enna' 'Catania' 'Ragusa' 'Siracusa' 'Sassari' 'Nuoro'\n",
      " 'Cagliari' 'Pordenone' 'Isernia' 'Oristano' 'Biella' 'Lecco' 'Lodi'\n",
      " 'Rimini' 'Prato' 'Crotone' 'Vibo Valentia' 'Verbano-Cusio-Ossola'\n",
      " 'Monza e della Brianza' 'Fermo' 'Barletta-Andria-Trani' 'Sud Sardegna']\n"
     ]
    },
    {
     "data": {
      "text/html": [
       "<div>\n",
       "<style scoped>\n",
       "    .dataframe tbody tr th:only-of-type {\n",
       "        vertical-align: middle;\n",
       "    }\n",
       "\n",
       "    .dataframe tbody tr th {\n",
       "        vertical-align: top;\n",
       "    }\n",
       "\n",
       "    .dataframe thead th {\n",
       "        text-align: right;\n",
       "    }\n",
       "</style>\n",
       "<table border=\"1\" class=\"dataframe\">\n",
       "  <thead>\n",
       "    <tr style=\"text-align: right;\">\n",
       "      <th></th>\n",
       "      <th>COD_PROV</th>\n",
       "      <th>DEN_PROV</th>\n",
       "    </tr>\n",
       "  </thead>\n",
       "  <tbody>\n",
       "    <tr>\n",
       "      <th>0</th>\n",
       "      <td>1</td>\n",
       "      <td>Torino</td>\n",
       "    </tr>\n",
       "    <tr>\n",
       "      <th>1</th>\n",
       "      <td>2</td>\n",
       "      <td>Vercelli</td>\n",
       "    </tr>\n",
       "    <tr>\n",
       "      <th>2</th>\n",
       "      <td>3</td>\n",
       "      <td>Novara</td>\n",
       "    </tr>\n",
       "    <tr>\n",
       "      <th>3</th>\n",
       "      <td>4</td>\n",
       "      <td>Cuneo</td>\n",
       "    </tr>\n",
       "    <tr>\n",
       "      <th>4</th>\n",
       "      <td>5</td>\n",
       "      <td>Asti</td>\n",
       "    </tr>\n",
       "  </tbody>\n",
       "</table>\n",
       "</div>"
      ],
      "text/plain": [
       "   COD_PROV  DEN_PROV\n",
       "0         1    Torino\n",
       "1         2  Vercelli\n",
       "2         3    Novara\n",
       "3         4     Cuneo\n",
       "4         5      Asti"
      ]
     },
     "execution_count": 12,
     "metadata": {},
     "output_type": "execute_result"
    }
   ],
   "source": [
    "geo = gpd.read_file(raw / \"Limiti01012023_g/ProvCM01012023_g/ProvCM01012023_g_WGS84.shp\")\n",
    "geo.geometry = geo.geometry.to_crs(epsg = 4326)\n",
    "# geo['DEN_PROV'] = np.where(geo['DEN_PROV'] == '-', np.nan, geo['DEN_PROV'])\n",
    "geo['DEN_PROV'] = np.where(geo['DEN_PROV'] == '-', geo['DEN_CM'], geo['DEN_PROV'])\n",
    "geo = geo.dropna(subset=['DEN_PROV'])\n",
    "geo = geo.loc[:,['COD_PROV','DEN_PROV']]\n",
    "\n",
    "lista_verificacion = geo['DEN_PROV'].unique()\n",
    "print('Lista de verificacion: ', lista_verificacion)\n",
    "\n",
    "geo.head()"
   ]
  },
  {
   "cell_type": "code",
   "execution_count": 13,
   "metadata": {},
   "outputs": [
    {
     "data": {
      "text/plain": [
       "(107, 2)"
      ]
     },
     "execution_count": 13,
     "metadata": {},
     "output_type": "execute_result"
    }
   ],
   "source": [
    "geo.shape"
   ]
  },
  {
   "cell_type": "code",
   "execution_count": 14,
   "metadata": {},
   "outputs": [
    {
     "data": {
      "text/html": [
       "<div>\n",
       "<style scoped>\n",
       "    .dataframe tbody tr th:only-of-type {\n",
       "        vertical-align: middle;\n",
       "    }\n",
       "\n",
       "    .dataframe tbody tr th {\n",
       "        vertical-align: top;\n",
       "    }\n",
       "\n",
       "    .dataframe thead th {\n",
       "        text-align: right;\n",
       "    }\n",
       "</style>\n",
       "<table border=\"1\" class=\"dataframe\">\n",
       "  <thead>\n",
       "    <tr style=\"text-align: right;\">\n",
       "      <th></th>\n",
       "      <th>ITTER107</th>\n",
       "      <th>DEN_PROV</th>\n",
       "    </tr>\n",
       "  </thead>\n",
       "  <tbody>\n",
       "    <tr>\n",
       "      <th>8</th>\n",
       "      <td>ITC11</td>\n",
       "      <td>Torino</td>\n",
       "    </tr>\n",
       "    <tr>\n",
       "      <th>10</th>\n",
       "      <td>ITC12</td>\n",
       "      <td>Vercelli</td>\n",
       "    </tr>\n",
       "    <tr>\n",
       "      <th>12</th>\n",
       "      <td>ITC13</td>\n",
       "      <td>Biella</td>\n",
       "    </tr>\n",
       "    <tr>\n",
       "      <th>14</th>\n",
       "      <td>ITC14</td>\n",
       "      <td>Verbano-Cusio-Ossola</td>\n",
       "    </tr>\n",
       "    <tr>\n",
       "      <th>16</th>\n",
       "      <td>ITC15</td>\n",
       "      <td>Novara</td>\n",
       "    </tr>\n",
       "  </tbody>\n",
       "</table>\n",
       "</div>"
      ],
      "text/plain": [
       "   ITTER107              DEN_PROV\n",
       "8     ITC11                Torino\n",
       "10    ITC12              Vercelli\n",
       "12    ITC13                Biella\n",
       "14    ITC14  Verbano-Cusio-Ossola\n",
       "16    ITC15                Novara"
      ]
     },
     "execution_count": 14,
     "metadata": {},
     "output_type": "execute_result"
    }
   ],
   "source": [
    "ter = pd.read_parquet(processed / 'ter2.parquet.gzip')\n",
    "ter = ter.dropna()\n",
    "ter.rename(columns={'Territory':'DEN_PROV'}, inplace=True)\n",
    "\n",
    "patron = r'^IT((\\d{3})|([C,D,E,F,G]((\\d[A-Z])|(\\d{2}))))$'\n",
    "ter = ter[ter[\"ITTER107\"].str.match(patron)]\n",
    "\n",
    "ter.head()"
   ]
  },
  {
   "cell_type": "code",
   "execution_count": 15,
   "metadata": {},
   "outputs": [
    {
     "name": "stdout",
     "output_type": "stream",
     "text": [
      "(107, 2) (107, 2) (107, 3)\n"
     ]
    },
    {
     "data": {
      "text/html": [
       "<div>\n",
       "<style scoped>\n",
       "    .dataframe tbody tr th:only-of-type {\n",
       "        vertical-align: middle;\n",
       "    }\n",
       "\n",
       "    .dataframe tbody tr th {\n",
       "        vertical-align: top;\n",
       "    }\n",
       "\n",
       "    .dataframe thead th {\n",
       "        text-align: right;\n",
       "    }\n",
       "</style>\n",
       "<table border=\"1\" class=\"dataframe\">\n",
       "  <thead>\n",
       "    <tr style=\"text-align: right;\">\n",
       "      <th></th>\n",
       "      <th>ITTER107</th>\n",
       "      <th>DEN_PROV</th>\n",
       "      <th>COD_PROV</th>\n",
       "    </tr>\n",
       "  </thead>\n",
       "  <tbody>\n",
       "    <tr>\n",
       "      <th>0</th>\n",
       "      <td>ITC11</td>\n",
       "      <td>Torino</td>\n",
       "      <td>1</td>\n",
       "    </tr>\n",
       "    <tr>\n",
       "      <th>1</th>\n",
       "      <td>ITC12</td>\n",
       "      <td>Vercelli</td>\n",
       "      <td>2</td>\n",
       "    </tr>\n",
       "    <tr>\n",
       "      <th>4</th>\n",
       "      <td>ITC15</td>\n",
       "      <td>Novara</td>\n",
       "      <td>3</td>\n",
       "    </tr>\n",
       "    <tr>\n",
       "      <th>5</th>\n",
       "      <td>ITC16</td>\n",
       "      <td>Cuneo</td>\n",
       "      <td>4</td>\n",
       "    </tr>\n",
       "    <tr>\n",
       "      <th>6</th>\n",
       "      <td>ITC17</td>\n",
       "      <td>Asti</td>\n",
       "      <td>5</td>\n",
       "    </tr>\n",
       "  </tbody>\n",
       "</table>\n",
       "</div>"
      ],
      "text/plain": [
       "  ITTER107  DEN_PROV  COD_PROV\n",
       "0    ITC11    Torino         1\n",
       "1    ITC12  Vercelli         2\n",
       "4    ITC15    Novara         3\n",
       "5    ITC16     Cuneo         4\n",
       "6    ITC17      Asti         5"
      ]
     },
     "execution_count": 15,
     "metadata": {},
     "output_type": "execute_result"
    }
   ],
   "source": [
    "df_aux3 = pd.merge(ter, geo, on=['DEN_PROV'])\n",
    "df_aux3 = df_aux3.sort_values(by=['COD_PROV'], ascending=True)\n",
    "print(ter.shape, geo.shape, df_aux3.shape)\n",
    "df_aux3.head(5)"
   ]
  },
  {
   "cell_type": "code",
   "execution_count": 16,
   "metadata": {},
   "outputs": [],
   "source": [
    "df_aux3.to_parquet(processed / 'g3.parquet.gzip', compression='gzip')\n",
    "df_aux3.to_csv(processed / 'g3.csv', encoding = 'utf-8-sig', index = False)"
   ]
  },
  {
   "cell_type": "markdown",
   "metadata": {},
   "source": [
    "# Por COD_CM - Comunas\n",
    "\n",
    "Son ## comunas"
   ]
  },
  {
   "cell_type": "code",
   "execution_count": 17,
   "metadata": {},
   "outputs": [
    {
     "data": {
      "text/html": [
       "<div>\n",
       "<style scoped>\n",
       "    .dataframe tbody tr th:only-of-type {\n",
       "        vertical-align: middle;\n",
       "    }\n",
       "\n",
       "    .dataframe tbody tr th {\n",
       "        vertical-align: top;\n",
       "    }\n",
       "\n",
       "    .dataframe thead th {\n",
       "        text-align: right;\n",
       "    }\n",
       "</style>\n",
       "<table border=\"1\" class=\"dataframe\">\n",
       "  <thead>\n",
       "    <tr style=\"text-align: right;\">\n",
       "      <th></th>\n",
       "      <th>COD_RIP</th>\n",
       "      <th>COD_REG</th>\n",
       "      <th>COD_PROV</th>\n",
       "      <th>COD_CM</th>\n",
       "      <th>COD_UTS</th>\n",
       "      <th>PRO_COM</th>\n",
       "      <th>PRO_COM_T</th>\n",
       "      <th>COMUNE</th>\n",
       "      <th>COMUNE_A</th>\n",
       "      <th>CC_UTS</th>\n",
       "      <th>Shape_Leng</th>\n",
       "      <th>geometry</th>\n",
       "    </tr>\n",
       "  </thead>\n",
       "  <tbody>\n",
       "    <tr>\n",
       "      <th>0</th>\n",
       "      <td>1</td>\n",
       "      <td>1</td>\n",
       "      <td>1</td>\n",
       "      <td>201</td>\n",
       "      <td>201</td>\n",
       "      <td>1001</td>\n",
       "      <td>001001</td>\n",
       "      <td>AgliÃ¨</td>\n",
       "      <td>NaN</td>\n",
       "      <td>0</td>\n",
       "      <td>16097.848297</td>\n",
       "      <td>POLYGON ((7.78266 45.38717, 7.79106 45.38630, ...</td>\n",
       "    </tr>\n",
       "    <tr>\n",
       "      <th>1</th>\n",
       "      <td>1</td>\n",
       "      <td>1</td>\n",
       "      <td>1</td>\n",
       "      <td>201</td>\n",
       "      <td>201</td>\n",
       "      <td>1002</td>\n",
       "      <td>001002</td>\n",
       "      <td>Airasca</td>\n",
       "      <td>NaN</td>\n",
       "      <td>0</td>\n",
       "      <td>16684.218599</td>\n",
       "      <td>POLYGON ((7.48795 44.93917, 7.49307 44.93949, ...</td>\n",
       "    </tr>\n",
       "    <tr>\n",
       "      <th>2</th>\n",
       "      <td>1</td>\n",
       "      <td>1</td>\n",
       "      <td>1</td>\n",
       "      <td>201</td>\n",
       "      <td>201</td>\n",
       "      <td>1003</td>\n",
       "      <td>001003</td>\n",
       "      <td>Ala di Stura</td>\n",
       "      <td>NaN</td>\n",
       "      <td>0</td>\n",
       "      <td>29892.941951</td>\n",
       "      <td>POLYGON ((7.27324 45.33927, 7.27360 45.33890, ...</td>\n",
       "    </tr>\n",
       "    <tr>\n",
       "      <th>3</th>\n",
       "      <td>1</td>\n",
       "      <td>1</td>\n",
       "      <td>1</td>\n",
       "      <td>201</td>\n",
       "      <td>201</td>\n",
       "      <td>1004</td>\n",
       "      <td>001004</td>\n",
       "      <td>Albiano d'Ivrea</td>\n",
       "      <td>NaN</td>\n",
       "      <td>0</td>\n",
       "      <td>16192.656480</td>\n",
       "      <td>POLYGON ((7.92507 45.44821, 7.92682 45.44821, ...</td>\n",
       "    </tr>\n",
       "    <tr>\n",
       "      <th>4</th>\n",
       "      <td>1</td>\n",
       "      <td>1</td>\n",
       "      <td>1</td>\n",
       "      <td>201</td>\n",
       "      <td>201</td>\n",
       "      <td>1006</td>\n",
       "      <td>001006</td>\n",
       "      <td>Almese</td>\n",
       "      <td>NaN</td>\n",
       "      <td>0</td>\n",
       "      <td>16077.245089</td>\n",
       "      <td>POLYGON ((7.43490 45.13442, 7.43524 45.13388, ...</td>\n",
       "    </tr>\n",
       "  </tbody>\n",
       "</table>\n",
       "</div>"
      ],
      "text/plain": [
       "   COD_RIP  COD_REG  COD_PROV  COD_CM  COD_UTS  PRO_COM PRO_COM_T  \\\n",
       "0        1        1         1     201      201     1001    001001   \n",
       "1        1        1         1     201      201     1002    001002   \n",
       "2        1        1         1     201      201     1003    001003   \n",
       "3        1        1         1     201      201     1004    001004   \n",
       "4        1        1         1     201      201     1006    001006   \n",
       "\n",
       "            COMUNE COMUNE_A  CC_UTS    Shape_Leng  \\\n",
       "0           AgliÃ¨      NaN       0  16097.848297   \n",
       "1          Airasca      NaN       0  16684.218599   \n",
       "2     Ala di Stura      NaN       0  29892.941951   \n",
       "3  Albiano d'Ivrea      NaN       0  16192.656480   \n",
       "4           Almese      NaN       0  16077.245089   \n",
       "\n",
       "                                            geometry  \n",
       "0  POLYGON ((7.78266 45.38717, 7.79106 45.38630, ...  \n",
       "1  POLYGON ((7.48795 44.93917, 7.49307 44.93949, ...  \n",
       "2  POLYGON ((7.27324 45.33927, 7.27360 45.33890, ...  \n",
       "3  POLYGON ((7.92507 45.44821, 7.92682 45.44821, ...  \n",
       "4  POLYGON ((7.43490 45.13442, 7.43524 45.13388, ...  "
      ]
     },
     "execution_count": 17,
     "metadata": {},
     "output_type": "execute_result"
    }
   ],
   "source": [
    "geo = gpd.read_file(raw / \"Limiti01012023_g/Com01012023_g/Com01012023_g_WGS84.shp\")\n",
    "geo.geometry = geo.geometry.to_crs(epsg = 4326)\n",
    "geo.head()"
   ]
  },
  {
   "cell_type": "code",
   "execution_count": 19,
   "metadata": {},
   "outputs": [
    {
     "data": {
      "text/plain": [
       "7901"
      ]
     },
     "execution_count": 19,
     "metadata": {},
     "output_type": "execute_result"
    }
   ],
   "source": [
    "geo['PRO_COM_T'].nunique()"
   ]
  },
  {
   "cell_type": "code",
   "execution_count": 20,
   "metadata": {},
   "outputs": [
    {
     "data": {
      "text/plain": [
       "(7901, 12)"
      ]
     },
     "execution_count": 20,
     "metadata": {},
     "output_type": "execute_result"
    }
   ],
   "source": [
    "geo.shape"
   ]
  },
  {
   "cell_type": "code",
   "execution_count": 18,
   "metadata": {},
   "outputs": [
    {
     "name": "stdout",
     "output_type": "stream",
     "text": [
      "Vane y Oscar\n"
     ]
    }
   ],
   "source": [
    "print('Vane y Oscar')"
   ]
  }
 ],
 "metadata": {
  "kernelspec": {
   "display_name": "Python 3",
   "language": "python",
   "name": "python3"
  },
  "language_info": {
   "codemirror_mode": {
    "name": "ipython",
    "version": 3
   },
   "file_extension": ".py",
   "mimetype": "text/x-python",
   "name": "python",
   "nbconvert_exporter": "python",
   "pygments_lexer": "ipython3",
   "version": "3.11.5"
  },
  "orig_nbformat": 4
 },
 "nbformat": 4,
 "nbformat_minor": 2
}
